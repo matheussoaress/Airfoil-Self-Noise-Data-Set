{
 "metadata": {
  "language_info": {
   "codemirror_mode": {
    "name": "ipython",
    "version": 3
   },
   "file_extension": ".py",
   "mimetype": "text/x-python",
   "name": "python",
   "nbconvert_exporter": "python",
   "pygments_lexer": "ipython3",
   "version": "3.8.5-final"
  },
  "orig_nbformat": 2,
  "kernelspec": {
   "name": "python3",
   "display_name": "Python 3"
  }
 },
 "nbformat": 4,
 "nbformat_minor": 2,
 "cells": [
  {
   "cell_type": "markdown",
   "metadata": {},
   "source": [
    "# Data Processing"
   ]
  },
  {
   "cell_type": "markdown",
   "metadata": {},
   "source": [
    "## Importing the libraries"
   ]
  },
  {
   "cell_type": "code",
   "execution_count": 1,
   "metadata": {},
   "outputs": [],
   "source": [
    "import numpy as np\n",
    "import matplotlib.pyplot as plt\n",
    "import pandas as pd"
   ]
  },
  {
   "cell_type": "markdown",
   "metadata": {},
   "source": [
    "## Importing the dataset"
   ]
  },
  {
   "cell_type": "code",
   "execution_count": 2,
   "metadata": {},
   "outputs": [],
   "source": [
    "dataset = pd.read_table(\"data/airfoil_self_noise.dat\", \n",
    "                        header=None, \n",
    "                        names=['frequency', 'angle_of_attack', 'chord_length', 'free_stream_velocity', \n",
    "                               'suction_side_displacement_thickness', 'scaled_sound_pressure_level'])\n",
    "X = dataset.iloc[:,:-1].values\n",
    "y = dataset.iloc[:,-1].values"
   ]
  },
  {
   "cell_type": "code",
   "execution_count": 3,
   "metadata": {},
   "outputs": [
    {
     "output_type": "execute_result",
     "data": {
      "text/plain": "array([[8.00000e+02, 0.00000e+00, 3.04800e-01, 7.13000e+01, 2.66337e-03],\n       [1.00000e+03, 0.00000e+00, 3.04800e-01, 7.13000e+01, 2.66337e-03],\n       [1.25000e+03, 0.00000e+00, 3.04800e-01, 7.13000e+01, 2.66337e-03],\n       ...,\n       [4.00000e+03, 1.56000e+01, 1.01600e-01, 3.96000e+01, 5.28487e-02],\n       [5.00000e+03, 1.56000e+01, 1.01600e-01, 3.96000e+01, 5.28487e-02],\n       [6.30000e+03, 1.56000e+01, 1.01600e-01, 3.96000e+01, 5.28487e-02]])"
     },
     "metadata": {},
     "execution_count": 3
    }
   ],
   "source": [
    "X"
   ]
  },
  {
   "cell_type": "code",
   "execution_count": 4,
   "metadata": {},
   "outputs": [
    {
     "output_type": "execute_result",
     "data": {
      "text/plain": "array([126.201, 125.201, 125.951, ..., 106.604, 106.224, 104.204])"
     },
     "metadata": {},
     "execution_count": 4
    }
   ],
   "source": [
    "y"
   ]
  },
  {
   "cell_type": "markdown",
   "metadata": {},
   "source": [
    "## Feature Scaling"
   ]
  },
  {
   "cell_type": "code",
   "execution_count": 5,
   "metadata": {},
   "outputs": [],
   "source": [
    "from sklearn.preprocessing import StandardScaler\n",
    "\n",
    "sc = StandardScaler()\n",
    "X = sc.fit_transform(X)"
   ]
  },
  {
   "cell_type": "markdown",
   "metadata": {},
   "source": [
    "## Splitting the dataset into the Training set and Test set"
   ]
  },
  {
   "cell_type": "code",
   "execution_count": 6,
   "metadata": {},
   "outputs": [],
   "source": [
    "from sklearn.model_selection import train_test_split\n",
    "X_train, X_test, y_train, y_test = train_test_split(X, y, test_size = 0.25, random_state = 0)"
   ]
  },
  {
   "cell_type": "markdown",
   "metadata": {},
   "source": [
    "## Training "
   ]
  },
  {
   "cell_type": "code",
   "execution_count": 7,
   "metadata": {
    "tags": [
     "outputPrepend"
    ]
   },
   "outputs": [
    {
     "output_type": "stream",
     "name": "stdout",
     "text": "tal=   0.0s\n[CV] criterion=mse, max_features=auto, random_state=0, splitter=best .\n[CV]  criterion=mse, max_features=auto, random_state=0, splitter=best, score=0.800, total=   0.0s\n[CV] criterion=mse, max_features=auto, random_state=0, splitter=best .\n[CV]  criterion=mse, max_features=auto, random_state=0, splitter=best, score=0.823, total=   0.0s\n[CV] criterion=mse, max_features=auto, random_state=0, splitter=best .\n[CV]  criterion=mse, max_features=auto, random_state=0, splitter=best, score=0.851, total=   0.0s\n[CV] criterion=mse, max_features=auto, random_state=0, splitter=random \n[CV]  criterion=mse, max_features=auto, random_state=0, splitter=random, score=0.792, total=   0.0s\n[CV] criterion=mse, max_features=auto, random_state=0, splitter=random \n[CV]  criterion=mse, max_features=auto, random_state=0, splitter=random, score=0.854, total=   0.0s\n[CV] criterion=mse, max_features=auto, random_state=0, splitter=random \n[CV]  criterion=mse, max_features=auto, random_state=0, splitter=random, score=0.829, total=   0.0s\n[CV] criterion=mse, max_features=auto, random_state=0, splitter=random \n[CV]  criterion=mse, max_features=auto, random_state=0, splitter=random, score=0.837, total=   0.0s\n[CV] criterion=mse, max_features=auto, random_state=0, splitter=random \n[CV]  criterion=mse, max_features=auto, random_state=0, splitter=random, score=0.800, total=   0.0s\n[CV] criterion=mse, max_features=sqrt, random_state=0, splitter=best .\n[CV]  criterion=mse, max_features=sqrt, random_state=0, splitter=best, score=0.862, total=   0.0s\n[CV] criterion=mse, max_features=sqrt, random_state=0, splitter=best .\n[CV]  criterion=mse, max_features=sqrt, random_state=0, splitter=best, score=0.797, total=   0.0s\n[CV] criterion=mse, max_features=sqrt, random_state=0, splitter=best .\n[CV]  criterion=mse, max_features=sqrt, random_state=0, splitter=best, score=0.802, total=   0.0s\n[CV] criterion=mse, max_features=sqrt, random_state=0, splitter=best .\n[CV]  criterion=mse, max_features=sqrt, random_state=0, splitter=best, score=0.779, total=   0.0s\n[CV] criterion=mse, max_features=sqrt, random_state=0, splitter=best .\n[CV]  criterion=mse, max_features=sqrt, random_state=0, splitter=best, score=0.831, total=   0.0s\n[CV] criterion=mse, max_features=sqrt, random_state=0, splitter=random \n[CV]  criterion=mse, max_features=sqrt, random_state=0, splitter=random, score=0.673, total=   0.0s\n[CV] criterion=mse, max_features=sqrt, random_state=0, splitter=random \n[CV]  criterion=mse, max_features=sqrt, random_state=0, splitter=random, score=0.691, total=   0.0s\n[CV] criterion=mse, max_features=sqrt, random_state=0, splitter=random \n[CV]  criterion=mse, max_features=sqrt, random_state=0, splitter=random, score=0.764, total=   0.0s\n[CV] criterion=mse, max_features=sqrt, random_state=0, splitter=random \n[CV]  criterion=mse, max_features=sqrt, random_state=0, splitter=random, score=0.630, total=   0.0s\n[CV] criterion=mse, max_features=sqrt, random_state=0, splitter=random \n[CV]  criterion=mse, max_features=sqrt, random_state=0, splitter=random, score=0.792, total=   0.0s\n[CV] criterion=mse, max_features=log2, random_state=0, splitter=best .\n[CV]  criterion=mse, max_features=log2, random_state=0, splitter=best, score=0.862, total=   0.0s\n[CV] criterion=mse, max_features=log2, random_state=0, splitter=best .\n[CV]  criterion=mse, max_features=log2, random_state=0, splitter=best, score=0.797, total=   0.0s\n[CV] criterion=mse, max_features=log2, random_state=0, splitter=best .\n[CV]  criterion=mse, max_features=log2, random_state=0, splitter=best, score=0.802, total=   0.0s\n[CV] criterion=mse, max_features=log2, random_state=0, splitter=best .\n[CV]  criterion=mse, max_features=log2, random_state=0, splitter=best, score=0.779, total=   0.0s\n[CV] criterion=mse, max_features=log2, random_state=0, splitter=best .\n[CV]  criterion=mse, max_features=log2, random_state=0, splitter=best, score=0.831, total=   0.0s\n[CV] criterion=mse, max_features=log2, random_state=0, splitter=random \n[CV]  criterion=mse, max_features=log2, random_state=0, splitter=random, score=0.673, total=   0.0s\n[CV] criterion=mse, max_features=log2, random_state=0, splitter=random \n[CV]  criterion=mse, max_features=log2, random_state=0, splitter=random, score=0.691, total=   0.0s\n[CV] criterion=mse, max_features=log2, random_state=0, splitter=random \n[CV]  criterion=mse, max_features=log2, random_state=0, splitter=random, score=0.764, total=   0.0s\n[CV] criterion=mse, max_features=log2, random_state=0, splitter=random \n[CV]  criterion=mse, max_features=log2, random_state=0, splitter=random, score=0.630, total=   0.0s\n[CV] criterion=mse, max_features=log2, random_state=0, splitter=random \n[CV]  criterion=mse, max_features=log2, random_state=0, splitter=random, score=0.792, total=   0.0s\n[CV] criterion=friedman_mse, max_features=None, random_state=0, splitter=best \n[CV]  criterion=friedman_mse, max_features=None, random_state=0, splitter=best, score=0.838, total=   0.0s\n[CV] criterion=friedman_mse, max_features=None, random_state=0, splitter=best \n[CV]  criterion=friedman_mse, max_features=None, random_state=0, splitter=best, score=0.803, total=   0.0s\n[CV] criterion=friedman_mse, max_features=None, random_state=0, splitter=best \n[CV]  criterion=friedman_mse, max_features=None, random_state=0, splitter=best, score=0.833, total=   0.0s\n[CV] criterion=friedman_mse, max_features=None, random_state=0, splitter=best \n[CV]  criterion=friedman_mse, max_features=None, random_state=0, splitter=best, score=0.827, total=   0.0s\n[CV] criterion=friedman_mse, max_features=None, random_state=0, splitter=best \n[CV]  criterion=friedman_mse, max_features=None, random_state=0, splitter=best, score=0.850, total=   0.0s\n[CV] criterion=friedman_mse, max_features=None, random_state=0, splitter=random \n[CV]  criterion=friedman_mse, max_features=None, random_state=0, splitter=random, score=0.802, total=   0.0s\n[CV] criterion=friedman_mse, max_features=None, random_state=0, splitter=random \n[CV]  criterion=friedman_mse, max_features=None, random_state=0, splitter=random, score=0.806, total=   0.0s\n[CV] criterion=friedman_mse, max_features=None, random_state=0, splitter=random \n[CV]  criterion=friedman_mse, max_features=None, random_state=0, splitter=random, score=0.775, total=   0.0s\n[CV] criterion=friedman_mse, max_features=None, random_state=0, splitter=random \n[CV]  criterion=friedman_mse, max_features=None, random_state=0, splitter=random, score=0.831, total=   0.0s\n[CV] criterion=friedman_mse, max_features=None, random_state=0, splitter=random \n[CV]  criterion=friedman_mse, max_features=None, random_state=0, splitter=random, score=0.837, total=   0.0s\n[CV] criterion=friedman_mse, max_features=auto, random_state=0, splitter=best \n[CV]  criterion=friedman_mse, max_features=auto, random_state=0, splitter=best, score=0.838, total=   0.0s\n[CV] criterion=friedman_mse, max_features=auto, random_state=0, splitter=best \n[CV]  criterion=friedman_mse, max_features=auto, random_state=0, splitter=best, score=0.803, total=   0.0s\n[CV] criterion=friedman_mse, max_features=auto, random_state=0, splitter=best \n[CV]  criterion=friedman_mse, max_features=auto, random_state=0, splitter=best, score=0.833, total=   0.0s\n[CV] criterion=friedman_mse, max_features=auto, random_state=0, splitter=best \n[CV]  criterion=friedman_mse, max_features=auto, random_state=0, splitter=best, score=0.827, total=   0.0s\n[CV] criterion=friedman_mse, max_features=auto, random_state=0, splitter=best \n[CV]  criterion=friedman_mse, max_features=auto, random_state=0, splitter=best, score=0.850, total=   0.0s\n[CV] criterion=friedman_mse, max_features=auto, random_state=0, splitter=random \n[CV]  criterion=friedman_mse, max_features=auto, random_state=0, splitter=random, score=0.802, total=   0.0s\n[CV] criterion=friedman_mse, max_features=auto, random_state=0, splitter=random \n[CV]  criterion=friedman_mse, max_features=auto, random_state=0, splitter=random, score=0.806, total=   0.0s\n[CV] criterion=friedman_mse, max_features=auto, random_state=0, splitter=random \n[CV]  criterion=friedman_mse, max_features=auto, random_state=0, splitter=random, score=0.775, total=   0.0s\n[CV] criterion=friedman_mse, max_features=auto, random_state=0, splitter=random \n[CV]  criterion=friedman_mse, max_features=auto, random_state=0, splitter=random, score=0.831, total=   0.0s\n[CV] criterion=friedman_mse, max_features=auto, random_state=0, splitter=random \n[CV]  criterion=friedman_mse, max_features=auto, random_state=0, splitter=random, score=0.837, total=   0.0s\n[CV] criterion=friedman_mse, max_features=sqrt, random_state=0, splitter=best \n[CV]  criterion=friedman_mse, max_features=sqrt, random_state=0, splitter=best, score=0.829, total=   0.0s\n[CV] criterion=friedman_mse, max_features=sqrt, random_state=0, splitter=best \n[CV]  criterion=friedman_mse, max_features=sqrt, random_state=0, splitter=best, score=0.724, total=   0.0s\n[CV] criterion=friedman_mse, max_features=sqrt, random_state=0, splitter=best \n[CV]  criterion=friedman_mse, max_features=sqrt, random_state=0, splitter=best, score=0.748, total=   0.0s\n[CV] criterion=friedman_mse, max_features=sqrt, random_state=0, splitter=best \n[CV]  criterion=friedman_mse, max_features=sqrt, random_state=0, splitter=best, score=0.804, total=   0.0s\n[CV] criterion=friedman_mse, max_features=sqrt, random_state=0, splitter=best \n[Parallel(n_jobs=1)]: Using backend SequentialBackend with 1 concurrent workers.\n[Parallel(n_jobs=1)]: Done   1 out of   1 | elapsed:    0.0s remaining:    0.0s\n[Parallel(n_jobs=1)]: Done   2 out of   2 | elapsed:    0.0s remaining:    0.0s\n[Parallel(n_jobs=1)]: Done   3 out of   3 | elapsed:    0.0s remaining:    0.0s\n[Parallel(n_jobs=1)]: Done   4 out of   4 | elapsed:    0.0s remaining:    0.0s\n[Parallel(n_jobs=1)]: Done   5 out of   5 | elapsed:    0.0s remaining:    0.0s\n[Parallel(n_jobs=1)]: Done   6 out of   6 | elapsed:    0.0s remaining:    0.0s\n[Parallel(n_jobs=1)]: Done   7 out of   7 | elapsed:    0.0s remaining:    0.0s\n[Parallel(n_jobs=1)]: Done   8 out of   8 | elapsed:    0.0s remaining:    0.0s\n[Parallel(n_jobs=1)]: Done   9 out of   9 | elapsed:    0.0s remaining:    0.0s\n[CV]  criterion=friedman_mse, max_features=sqrt, random_state=0, splitter=best, score=0.802, total=   0.0s\n[CV] criterion=friedman_mse, max_features=sqrt, random_state=0, splitter=random \n[CV]  criterion=friedman_mse, max_features=sqrt, random_state=0, splitter=random, score=0.673, total=   0.0s\n[CV] criterion=friedman_mse, max_features=sqrt, random_state=0, splitter=random \n[CV]  criterion=friedman_mse, max_features=sqrt, random_state=0, splitter=random, score=0.714, total=   0.0s\n[CV] criterion=friedman_mse, max_features=sqrt, random_state=0, splitter=random \n[CV]  criterion=friedman_mse, max_features=sqrt, random_state=0, splitter=random, score=0.771, total=   0.0s\n[CV] criterion=friedman_mse, max_features=sqrt, random_state=0, splitter=random \n[CV]  criterion=friedman_mse, max_features=sqrt, random_state=0, splitter=random, score=0.640, total=   0.0s\n[CV] criterion=friedman_mse, max_features=sqrt, random_state=0, splitter=random \n[CV]  criterion=friedman_mse, max_features=sqrt, random_state=0, splitter=random, score=0.775, total=   0.0s\n[CV] criterion=friedman_mse, max_features=log2, random_state=0, splitter=best \n[CV]  criterion=friedman_mse, max_features=log2, random_state=0, splitter=best, score=0.829, total=   0.0s\n[CV] criterion=friedman_mse, max_features=log2, random_state=0, splitter=best \n[CV]  criterion=friedman_mse, max_features=log2, random_state=0, splitter=best, score=0.724, total=   0.0s\n[CV] criterion=friedman_mse, max_features=log2, random_state=0, splitter=best \n[CV]  criterion=friedman_mse, max_features=log2, random_state=0, splitter=best, score=0.748, total=   0.0s\n[CV] criterion=friedman_mse, max_features=log2, random_state=0, splitter=best \n[CV]  criterion=friedman_mse, max_features=log2, random_state=0, splitter=best, score=0.804, total=   0.0s\n[CV] criterion=friedman_mse, max_features=log2, random_state=0, splitter=best \n[CV]  criterion=friedman_mse, max_features=log2, random_state=0, splitter=best, score=0.802, total=   0.0s\n[CV] criterion=friedman_mse, max_features=log2, random_state=0, splitter=random \n[CV]  criterion=friedman_mse, max_features=log2, random_state=0, splitter=random, score=0.673, total=   0.0s\n[CV] criterion=friedman_mse, max_features=log2, random_state=0, splitter=random \n[CV]  criterion=friedman_mse, max_features=log2, random_state=0, splitter=random, score=0.714, total=   0.0s\n[CV] criterion=friedman_mse, max_features=log2, random_state=0, splitter=random \n[CV]  criterion=friedman_mse, max_features=log2, random_state=0, splitter=random, score=0.771, total=   0.0s\n[CV] criterion=friedman_mse, max_features=log2, random_state=0, splitter=random \n[CV]  criterion=friedman_mse, max_features=log2, random_state=0, splitter=random, score=0.640, total=   0.0s\n[CV] criterion=friedman_mse, max_features=log2, random_state=0, splitter=random \n[CV]  criterion=friedman_mse, max_features=log2, random_state=0, splitter=random, score=0.775, total=   0.0s\n[CV] criterion=mae, max_features=None, random_state=0, splitter=best .\n[CV]  criterion=mae, max_features=None, random_state=0, splitter=best, score=0.833, total=   0.0s\n[CV] criterion=mae, max_features=None, random_state=0, splitter=best .\n[CV]  criterion=mae, max_features=None, random_state=0, splitter=best, score=0.837, total=   0.0s\n[CV] criterion=mae, max_features=None, random_state=0, splitter=best .\n[CV]  criterion=mae, max_features=None, random_state=0, splitter=best, score=0.810, total=   0.0s\n[CV] criterion=mae, max_features=None, random_state=0, splitter=best .\n[CV]  criterion=mae, max_features=None, random_state=0, splitter=best, score=0.843, total=   0.0s\n[CV] criterion=mae, max_features=None, random_state=0, splitter=best .\n[CV]  criterion=mae, max_features=None, random_state=0, splitter=best, score=0.790, total=   0.0s\n[CV] criterion=mae, max_features=None, random_state=0, splitter=random \n[CV]  criterion=mae, max_features=None, random_state=0, splitter=random, score=0.864, total=   0.0s\n[CV] criterion=mae, max_features=None, random_state=0, splitter=random \n[CV]  criterion=mae, max_features=None, random_state=0, splitter=random, score=0.823, total=   0.0s\n[CV] criterion=mae, max_features=None, random_state=0, splitter=random \n[CV]  criterion=mae, max_features=None, random_state=0, splitter=random, score=0.795, total=   0.0s\n[CV] criterion=mae, max_features=None, random_state=0, splitter=random \n[CV]  criterion=mae, max_features=None, random_state=0, splitter=random, score=0.783, total=   0.0s\n[CV] criterion=mae, max_features=None, random_state=0, splitter=random \n[CV]  criterion=mae, max_features=None, random_state=0, splitter=random, score=0.828, total=   0.0s\n[CV] criterion=mae, max_features=auto, random_state=0, splitter=best .\n[CV]  criterion=mae, max_features=auto, random_state=0, splitter=best, score=0.833, total=   0.0s\n[CV] criterion=mae, max_features=auto, random_state=0, splitter=best .\n[CV]  criterion=mae, max_features=auto, random_state=0, splitter=best, score=0.837, total=   0.0s\n[CV] criterion=mae, max_features=auto, random_state=0, splitter=best .\n[CV]  criterion=mae, max_features=auto, random_state=0, splitter=best, score=0.810, total=   0.0s\n[CV] criterion=mae, max_features=auto, random_state=0, splitter=best .\n[CV]  criterion=mae, max_features=auto, random_state=0, splitter=best, score=0.843, total=   0.0s\n[CV] criterion=mae, max_features=auto, random_state=0, splitter=best .\n[CV]  criterion=mae, max_features=auto, random_state=0, splitter=best, score=0.790, total=   0.0s\n[CV] criterion=mae, max_features=auto, random_state=0, splitter=random \n[CV]  criterion=mae, max_features=auto, random_state=0, splitter=random, score=0.864, total=   0.0s\n[CV] criterion=mae, max_features=auto, random_state=0, splitter=random \n[CV]  criterion=mae, max_features=auto, random_state=0, splitter=random, score=0.823, total=   0.0s\n[CV] criterion=mae, max_features=auto, random_state=0, splitter=random \n[CV]  criterion=mae, max_features=auto, random_state=0, splitter=random, score=0.795, total=   0.0s\n[CV] criterion=mae, max_features=auto, random_state=0, splitter=random \n[CV]  criterion=mae, max_features=auto, random_state=0, splitter=random, score=0.783, total=   0.0s\n[CV] criterion=mae, max_features=auto, random_state=0, splitter=random \n[CV]  criterion=mae, max_features=auto, random_state=0, splitter=random, score=0.828, total=   0.0s\n[CV] criterion=mae, max_features=sqrt, random_state=0, splitter=best .\n[CV]  criterion=mae, max_features=sqrt, random_state=0, splitter=best, score=0.823, total=   0.0s\n[CV] criterion=mae, max_features=sqrt, random_state=0, splitter=best .\n[CV]  criterion=mae, max_features=sqrt, random_state=0, splitter=best, score=0.801, total=   0.0s\n[CV] criterion=mae, max_features=sqrt, random_state=0, splitter=best .\n[CV]  criterion=mae, max_features=sqrt, random_state=0, splitter=best, score=0.832, total=   0.0s\n[CV] criterion=mae, max_features=sqrt, random_state=0, splitter=best .\n[CV]  criterion=mae, max_features=sqrt, random_state=0, splitter=best, score=0.794, total=   0.0s\n[CV] criterion=mae, max_features=sqrt, random_state=0, splitter=best .\n[CV]  criterion=mae, max_features=sqrt, random_state=0, splitter=best, score=0.784, total=   0.0s\n[CV] criterion=mae, max_features=sqrt, random_state=0, splitter=random \n[CV]  criterion=mae, max_features=sqrt, random_state=0, splitter=random, score=0.754, total=   0.0s\n[CV] criterion=mae, max_features=sqrt, random_state=0, splitter=random \n[CV]  criterion=mae, max_features=sqrt, random_state=0, splitter=random, score=0.769, total=   0.0s\n[CV] criterion=mae, max_features=sqrt, random_state=0, splitter=random \n[CV]  criterion=mae, max_features=sqrt, random_state=0, splitter=random, score=0.747, total=   0.0s\n[CV] criterion=mae, max_features=sqrt, random_state=0, splitter=random \n[CV]  criterion=mae, max_features=sqrt, random_state=0, splitter=random, score=0.756, total=   0.0s\n[CV] criterion=mae, max_features=sqrt, random_state=0, splitter=random \n[CV]  criterion=mae, max_features=sqrt, random_state=0, splitter=random, score=0.629, total=   0.0s\n[CV] criterion=mae, max_features=log2, random_state=0, splitter=best .\n[CV]  criterion=mae, max_features=log2, random_state=0, splitter=best, score=0.823, total=   0.0s\n[CV] criterion=mae, max_features=log2, random_state=0, splitter=best .\n[CV]  criterion=mae, max_features=log2, random_state=0, splitter=best, score=0.801, total=   0.0s\n[CV] criterion=mae, max_features=log2, random_state=0, splitter=best .\n[CV]  criterion=mae, max_features=log2, random_state=0, splitter=best, score=0.832, total=   0.0s\n[CV] criterion=mae, max_features=log2, random_state=0, splitter=best .\n[CV]  criterion=mae, max_features=log2, random_state=0, splitter=best, score=0.794, total=   0.0s\n[CV] criterion=mae, max_features=log2, random_state=0, splitter=best .\n[CV]  criterion=mae, max_features=log2, random_state=0, splitter=best, score=0.784, total=   0.0s\n[CV] criterion=mae, max_features=log2, random_state=0, splitter=random \n[CV]  criterion=mae, max_features=log2, random_state=0, splitter=random, score=0.754, total=   0.0s\n[CV] criterion=mae, max_features=log2, random_state=0, splitter=random \n[CV]  criterion=mae, max_features=log2, random_state=0, splitter=random, score=0.769, total=   0.0s\n[CV] criterion=mae, max_features=log2, random_state=0, splitter=random \n[CV]  criterion=mae, max_features=log2, random_state=0, splitter=random, score=0.747, total=   0.0s\n[CV] criterion=mae, max_features=log2, random_state=0, splitter=random \n[CV]  criterion=mae, max_features=log2, random_state=0, splitter=random, score=0.756, total=   0.0s\n[CV] criterion=mae, max_features=log2, random_state=0, splitter=random \n[CV]  criterion=mae, max_features=log2, random_state=0, splitter=random, score=0.629, total=   0.0s\n[Parallel(n_jobs=1)]: Done 120 out of 120 | elapsed:    0.7s finished\n"
    },
    {
     "output_type": "execute_result",
     "data": {
      "text/plain": "GridSearchCV(estimator=DecisionTreeRegressor(),\n             param_grid={'criterion': ['mse', 'friedman_mse', 'mae'],\n                         'max_features': [None, 'auto', 'sqrt', 'log2'],\n                         'random_state': [0], 'splitter': ['best', 'random']},\n             verbose=10)"
     },
     "metadata": {},
     "execution_count": 7
    }
   ],
   "source": [
    "from sklearn.tree import DecisionTreeRegressor\n",
    "from sklearn.model_selection import GridSearchCV\n",
    "\n",
    "params = {\n",
    "    'criterion': ['mse', 'friedman_mse', 'mae'],\n",
    "    'splitter': ['best', 'random'],\n",
    "    'max_features': [None, 'auto', 'sqrt', 'log2'],\n",
    "    'random_state': [0]\n",
    "}\n",
    "\n",
    "regressors = GridSearchCV(estimator=DecisionTreeRegressor(), param_grid=params, verbose=10)\n",
    "regressors.fit(X_train, y_train)"
   ]
  },
  {
   "cell_type": "markdown",
   "metadata": {},
   "source": [
    "## Predicting the Test set results"
   ]
  },
  {
   "cell_type": "code",
   "execution_count": 8,
   "metadata": {
    "tags": []
   },
   "outputs": [
    {
     "output_type": "stream",
     "name": "stdout",
     "text": "[[134.56 130.79]\n [117.98 119.54]\n [110.45 110.32]\n [115.85 117.4 ]\n [129.28 127.62]\n [123.56 121.66]\n [119.74 118.69]\n [132.92 130.03]\n [116.3  114.73]\n [125.6  124.21]\n [125.8  125.84]\n [132.18 131.52]\n [132.92 130.7 ]\n [116.56 117.81]\n [126.96 126.66]\n [115.3  113.14]\n [129.04 126.76]\n [134.23 133.38]\n [115.3  118.08]\n [116.07 116.15]\n [120.51 123.46]\n [130.5  130.09]\n [128.54 129.93]\n [134.25 120.66]\n [130.54 134.06]\n [121.66 122.09]\n [112.8  117.09]\n [139.92 138.76]\n [131.02 130.83]\n [130.51 128.24]\n [127.25 128.95]\n [125.47 122.53]\n [104.13 103.38]\n [126.83 126.41]\n [133.77 131.8 ]\n [131.45 130.96]\n [115.66 119.25]\n [112.77 109.64]\n [125.74 127.78]\n [125.45 129.01]\n [132.05 132.54]\n [124.24 125.48]\n [135.32 138.27]\n [121.66 123.13]\n [112.06 111.03]\n [134.23 135.96]\n [126.2  127.12]\n [129.63 129.67]\n [128.43 125.65]\n [129.47 129.24]\n [124.72 123.21]\n [123.86 127.  ]\n [117.33 119.91]\n [127.31 126.56]\n [121.63 121.53]\n [120.47 122.23]\n [117.09 113.3 ]\n [132.36 128.34]\n [121.43 121.73]\n [119.17 118.9 ]\n [123.99 122.43]\n [133.29 133.24]\n [125.74 127.64]\n [134.24 136.17]\n [126.85 124.36]\n [124.35 127.59]\n [128.24 128.35]\n [131.81 133.76]\n [130.51 132.13]\n [110.49 113.8 ]\n [129.31 125.72]\n [125.87 126.09]\n [129.94 121.01]\n [132.43 130.05]\n [124.21 126.65]\n [125.2  123.45]\n [119.67 122.09]\n [125.45 126.51]\n [131.43 133.66]\n [130.82 130.18]\n [127.92 129.12]\n [131.19 128.41]\n [115.52 118.11]\n [123.04 122.8 ]\n [129.96 127.31]\n [118.92 118.11]\n [128.94 128.81]\n [123.92 121.77]\n [134.23 134.53]\n [124.35 127.38]\n [131.89 130.99]\n [123.99 127.12]\n [121.23 119.11]\n [112.25 110.65]\n [128.45 126.42]\n [108.03 107.28]\n [109.66 108.19]\n [135.8  136.1 ]\n [123.19 120.51]\n [122.77 122.78]\n [127.75 125.16]\n [135.49 135.94]\n [128.4  129.01]\n [129.96 131.86]\n [135.23 133.28]\n [130.94 129.58]\n [131.7  133.05]\n [129.4  130.79]\n [130.69 131.71]\n [133.85 136.68]\n [134.25 123.23]\n [124.43 125.04]\n [127.75 127.83]\n [126.62 127.46]\n [129.47 129.09]\n [120.75 120.98]\n [131.62 130.72]\n [120.79 120.7 ]\n [129.1  128.63]\n [128.44 122.2 ]\n [121.31 123.3 ]\n [121.55 119.7 ]\n [126.96 127.31]\n [125.72 127.14]\n [123.12 124.46]\n [114.42 116.02]\n [130.69 131.72]\n [132.15 129.69]\n [127.36 126.84]\n [119.74 120.65]\n [129.05 131.36]\n [121.93 123.22]\n [129.28 125.63]\n [115.46 115.44]\n [130.11 128.33]\n [127.22 125.97]\n [121.53 120.58]\n [132.12 132.66]\n [123.08 123.21]\n [116.56 112.16]\n [112.64 114.08]\n [116.56 114.67]\n [131.28 127.81]\n [125.72 123.26]\n [117.43 116.66]\n [126.89 122.97]\n [113.06 116.47]\n [128.72 129.27]\n [120.03 121.12]\n [131.51 130.43]\n [124.11 125.57]\n [132.35 131.6 ]\n [116.07 119.15]\n [120.32 123.24]\n [122.79 126.51]\n [121.5  122.82]\n [136.58 133.5 ]\n [120.33 126.93]\n [121.79 119.88]\n [130.07 133.96]\n [115.31 113.73]\n [125.53 125.05]\n [125.32 125.23]\n [130.27 130.24]\n [135.32 124.51]\n [126.75 128.26]\n [123.47 124.88]\n [117.15 118.62]\n [137.05 138.54]\n [109.66 112.93]\n [113.09 113.08]\n [130.27 128.17]\n [126.   125.81]\n [125.63 124.99]\n [123.31 126.84]\n [117.12 116.86]\n [125.72 125.72]\n [123.61 123.12]\n [123.45 125.31]\n [122.37 122.17]\n [123.62 131.46]\n [123.12 121.59]\n [133.85 134.15]\n [119.04 119.19]\n [125.87 125.95]\n [132.09 129.95]\n [128.83 127.58]\n [130.35 129.58]\n [119.53 120.26]\n [127.53 126.16]\n [125.8  124.84]\n [118.29 119.14]\n [124.12 126.81]\n [127.44 125.96]\n [120.56 118.62]\n [133.92 134.93]\n [129.47 130.72]\n [116.22 113.08]\n [123.31 121.85]\n [125.54 126.34]\n [117.11 114.45]\n [128.83 130.59]\n [124.44 126.99]\n [125.4  126.41]\n [109.22 106.11]\n [130.95 130.22]\n [130.35 131.07]\n [119.63 118.13]\n [117.92 118.55]\n [129.12 130.99]\n [133.22 130.5 ]\n [130.96 131.78]\n [127.39 127.4 ]\n [125.99 125.2 ]\n [127.9  130.03]\n [129.1  130.21]\n [137.81 138.42]\n [126.81 128.82]\n [136.03 133.61]\n [118.27 117.65]\n [131.87 130.4 ]\n [129.26 132.4 ]\n [131.62 131.75]\n [115.89 116.02]\n [122.91 123.74]\n [111.08 108.65]\n [136.8  129.88]\n [126.05 126.47]\n [126.71 128.58]\n [121.15 115.81]\n [128.45 128.18]\n [123.88 126.15]\n [126.19 126.67]\n [131.64 132.3 ]\n [116.18 117.72]\n [123.06 124.09]\n [129.49 128.44]\n [124.21 127.69]\n [119.78 118.77]\n [120.06 126.27]\n [120.59 121.06]\n [129.74 128.48]\n [125.87 126.86]\n [116.23 114.78]\n [108.41 107.15]\n [122.47 120.24]\n [130.59 127.36]\n [126.81 124.16]\n [122.37 124.36]\n [128.94 128.56]\n [109.66 108.69]\n [110.56 109.89]\n [135.67 136.41]\n [133.06 133.55]\n [123.44 125.03]\n [122.84 123.7 ]\n [117.09 120.25]\n [129.1  128.71]\n [118.86 117.14]\n [106.6  104.5 ]\n [122.65 125.35]\n [122.54 119.1 ]\n [117.33 121.24]\n [130.15 128.92]\n [125.74 125.35]\n [135.33 134.32]\n [127.49 130.56]\n [132.36 132.76]\n [116.92 120.14]\n [129.05 130.75]\n [130.09 128.68]\n [124.24 125.11]\n [135.31 134.31]\n [127.05 124.84]\n [132.09 127.56]\n [130.48 125.68]\n [123.31 122.23]\n [125.74 128.29]\n [113.78 115.14]\n [120.96 120.23]\n [113.06 116.91]\n [134.34 133.42]\n [134.62 134.51]\n [121.22 119.97]\n [115.82 117.25]\n [128.4  129.99]\n [125.47 125.27]\n [106.22 104.2 ]\n [127.47 125.58]\n [120.04 119.29]\n [125.4  120.54]\n [130.31 129.28]\n [118.56 121.82]\n [117.33 121.93]\n [111.08 109.62]\n [137.05 138.61]\n [126.64 127.61]\n [127.9  130.44]\n [130.82 131.01]\n [125.19 125.58]\n [113.09 112.59]\n [129.56 127.21]\n [136.38 136.28]\n [119.89 117.5 ]\n [120.4  122.34]\n [114.75 114.04]\n [135.46 135.08]\n [125.34 127.23]\n [122.1  123.69]\n [121.23 118.  ]\n [136.54 135.35]\n [123.47 126.53]\n [129.89 135.37]\n [112.06 111.96]\n [126.   125.82]\n [119.81 119.62]\n [130.3  132.04]\n [119.64 118.36]\n [122.22 124.75]\n [109.95 112.51]\n [122.1  122.38]\n [121.3  120.5 ]\n [122.31 121.31]\n [106.26 109.25]\n [120.78 119.5 ]\n [119.22 118.21]\n [125.5  124.36]\n [115.89 115.91]\n [139.81 139.44]\n [122.89 124.49]\n [131.72 129.68]\n [136.58 134.53]\n [113.23 114.31]\n [130.96 129.45]\n [117.15 116.41]\n [117.19 118.13]\n [119.21 118.71]\n [132.9  131.84]\n [108.62 110.91]\n [129.35 129.57]\n [129.65 124.27]\n [129.57 129.03]\n [123.47 124.85]\n [116.13 115.68]\n [114.98 117.62]\n [126.9  127.13]\n [125.09 119.38]\n [122.45 119.07]\n [125.73 118.94]\n [116.6  113.33]\n [139.81 127.7 ]\n [127.62 131.46]\n [120.83 121.48]\n [130.78 129.8 ]\n [129.28 127.04]\n [133.38 134.  ]\n [127.39 128.77]\n [125.47 124.45]\n [123.44 124.84]\n [116.55 114.9 ]\n [120.06 118.76]\n [129.74 128.35]\n [132.59 130.2 ]\n [115.64 118.14]\n [131.81 133.1 ]\n [128.97 125.73]\n [115.79 116.24]\n [124.83 124.17]\n [117.93 115.86]\n [127.69 129.97]\n [120.75 121.4 ]\n [122.96 120.77]\n [116.13 118.12]\n [137.66 132.51]\n [131.43 132.3 ]\n [126.78 127.64]]\n"
    }
   ],
   "source": [
    "regressor = regressors.best_estimator_\n",
    "y_pred = regressor.predict(X_test)\n",
    "np.set_printoptions(precision=2)\n",
    "print(np.concatenate((y_pred.reshape(len(y_pred),1), y_test.reshape(len(y_test),1)),1))"
   ]
  },
  {
   "cell_type": "markdown",
   "metadata": {},
   "source": [
    "## Measuring performance"
   ]
  },
  {
   "cell_type": "code",
   "execution_count": 9,
   "metadata": {},
   "outputs": [],
   "source": [
    "from sklearn.metrics import r2_score \n",
    "from sklearn.metrics import mean_squared_error\n",
    "from sklearn.metrics import median_absolute_error"
   ]
  },
  {
   "cell_type": "code",
   "execution_count": 10,
   "metadata": {},
   "outputs": [
    {
     "output_type": "execute_result",
     "data": {
      "text/plain": "0.8674075497622166"
     },
     "metadata": {},
     "execution_count": 10
    }
   ],
   "source": [
    "r2_score(y_test, y_pred)"
   ]
  },
  {
   "cell_type": "code",
   "execution_count": 11,
   "metadata": {},
   "outputs": [
    {
     "output_type": "execute_result",
     "data": {
      "text/plain": "6.289410356382982"
     },
     "metadata": {},
     "execution_count": 11
    }
   ],
   "source": [
    "mean_squared_error(y_test, y_pred)"
   ]
  },
  {
   "cell_type": "code",
   "execution_count": 12,
   "metadata": {},
   "outputs": [
    {
     "output_type": "execute_result",
     "data": {
      "text/plain": "1.437499999999993"
     },
     "metadata": {},
     "execution_count": 12
    }
   ],
   "source": [
    "median_absolute_error(y_test, y_pred)"
   ]
  },
  {
   "cell_type": "code",
   "execution_count": null,
   "metadata": {},
   "outputs": [],
   "source": []
  }
 ]
}