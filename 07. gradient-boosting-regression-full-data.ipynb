{
 "metadata": {
  "language_info": {
   "codemirror_mode": {
    "name": "ipython",
    "version": 3
   },
   "file_extension": ".py",
   "mimetype": "text/x-python",
   "name": "python",
   "nbconvert_exporter": "python",
   "pygments_lexer": "ipython3",
   "version": "3.8.5-final"
  },
  "orig_nbformat": 2,
  "kernelspec": {
   "name": "python3",
   "display_name": "Python 3"
  }
 },
 "nbformat": 4,
 "nbformat_minor": 2,
 "cells": [
  {
   "cell_type": "markdown",
   "metadata": {},
   "source": [
    "# Data Processing"
   ]
  },
  {
   "cell_type": "markdown",
   "metadata": {},
   "source": [
    "## Importing the libraries"
   ]
  },
  {
   "cell_type": "code",
   "execution_count": 1,
   "metadata": {},
   "outputs": [],
   "source": [
    "import numpy as np\n",
    "import matplotlib.pyplot as plt\n",
    "import pandas as pd"
   ]
  },
  {
   "cell_type": "markdown",
   "metadata": {},
   "source": [
    "## Importing the dataset"
   ]
  },
  {
   "cell_type": "code",
   "execution_count": 2,
   "metadata": {},
   "outputs": [],
   "source": [
    "dataset = pd.read_table(\"data/airfoil_self_noise.dat\", \n",
    "                        header=None, \n",
    "                        names=['frequency', 'angle_of_attack', 'chord_length', 'free_stream_velocity', \n",
    "                               'suction_side_displacement_thickness', 'scaled_sound_pressure_level'])\n",
    "X = dataset.iloc[:,:-1].values\n",
    "y = dataset.iloc[:,-1].values"
   ]
  },
  {
   "cell_type": "code",
   "execution_count": 3,
   "metadata": {},
   "outputs": [
    {
     "output_type": "execute_result",
     "data": {
      "text/plain": "array([[8.00000e+02, 0.00000e+00, 3.04800e-01, 7.13000e+01, 2.66337e-03],\n       [1.00000e+03, 0.00000e+00, 3.04800e-01, 7.13000e+01, 2.66337e-03],\n       [1.25000e+03, 0.00000e+00, 3.04800e-01, 7.13000e+01, 2.66337e-03],\n       ...,\n       [4.00000e+03, 1.56000e+01, 1.01600e-01, 3.96000e+01, 5.28487e-02],\n       [5.00000e+03, 1.56000e+01, 1.01600e-01, 3.96000e+01, 5.28487e-02],\n       [6.30000e+03, 1.56000e+01, 1.01600e-01, 3.96000e+01, 5.28487e-02]])"
     },
     "metadata": {},
     "execution_count": 3
    }
   ],
   "source": [
    "X"
   ]
  },
  {
   "cell_type": "code",
   "execution_count": 4,
   "metadata": {},
   "outputs": [
    {
     "output_type": "execute_result",
     "data": {
      "text/plain": "array([126.201, 125.201, 125.951, ..., 106.604, 106.224, 104.204])"
     },
     "metadata": {},
     "execution_count": 4
    }
   ],
   "source": [
    "y"
   ]
  },
  {
   "cell_type": "markdown",
   "metadata": {},
   "source": [
    "## Feature Scaling"
   ]
  },
  {
   "cell_type": "code",
   "execution_count": 5,
   "metadata": {},
   "outputs": [],
   "source": [
    "from sklearn.preprocessing import StandardScaler\n",
    "\n",
    "sc = StandardScaler()\n",
    "X = sc.fit_transform(X)"
   ]
  },
  {
   "cell_type": "markdown",
   "metadata": {},
   "source": [
    "## Splitting the dataset into the Training set and Test set"
   ]
  },
  {
   "cell_type": "code",
   "execution_count": 6,
   "metadata": {},
   "outputs": [],
   "source": [
    "from sklearn.model_selection import train_test_split\n",
    "X_train, X_test, y_train, y_test = train_test_split(X, y, test_size = 0.25, random_state = 0)"
   ]
  },
  {
   "cell_type": "markdown",
   "metadata": {},
   "source": [
    "## Training "
   ]
  },
  {
   "cell_type": "code",
   "execution_count": 13,
   "metadata": {
    "tags": []
   },
   "outputs": [
    {
     "output_type": "stream",
     "name": "stdout",
     "text": "Fitting 5 folds for each of 144 candidates, totalling 720 fits\n[Parallel(n_jobs=-1)]: Using backend LokyBackend with 8 concurrent workers.\n[Parallel(n_jobs=-1)]: Done   2 tasks      | elapsed:    1.5s\n[Parallel(n_jobs=-1)]: Done   9 tasks      | elapsed:    1.6s\n[Parallel(n_jobs=-1)]: Done  16 tasks      | elapsed:    1.8s\n[Parallel(n_jobs=-1)]: Done  25 tasks      | elapsed:    2.5s\n[Parallel(n_jobs=-1)]: Done  34 tasks      | elapsed:    2.7s\n[Parallel(n_jobs=-1)]: Done  45 tasks      | elapsed:    3.0s\n[Parallel(n_jobs=-1)]: Done  56 tasks      | elapsed:    3.5s\n[Parallel(n_jobs=-1)]: Done  69 tasks      | elapsed:    4.1s\n[Parallel(n_jobs=-1)]: Done  82 tasks      | elapsed:    6.2s\n[Parallel(n_jobs=-1)]: Done  97 tasks      | elapsed:    6.9s\n[Parallel(n_jobs=-1)]: Done 112 tasks      | elapsed:    9.2s\n[Parallel(n_jobs=-1)]: Done 129 tasks      | elapsed:   12.4s\n[Parallel(n_jobs=-1)]: Done 146 tasks      | elapsed:   16.3s\n[Parallel(n_jobs=-1)]: Done 165 tasks      | elapsed:   20.3s\n[Parallel(n_jobs=-1)]: Done 184 tasks      | elapsed:   24.3s\n[Parallel(n_jobs=-1)]: Done 205 tasks      | elapsed:   28.8s\n[Parallel(n_jobs=-1)]: Done 226 tasks      | elapsed:   32.8s\n[Parallel(n_jobs=-1)]: Done 249 tasks      | elapsed:   37.5s\n[Parallel(n_jobs=-1)]: Done 272 tasks      | elapsed:   39.3s\n[Parallel(n_jobs=-1)]: Done 297 tasks      | elapsed:   41.1s\n[Parallel(n_jobs=-1)]: Done 322 tasks      | elapsed:   46.7s\n[Parallel(n_jobs=-1)]: Done 349 tasks      | elapsed:   51.1s\n[Parallel(n_jobs=-1)]: Done 376 tasks      | elapsed:   56.9s\n[Parallel(n_jobs=-1)]: Done 405 tasks      | elapsed:  1.1min\n[Parallel(n_jobs=-1)]: Done 434 tasks      | elapsed:  1.2min\n[Parallel(n_jobs=-1)]: Done 465 tasks      | elapsed:  1.3min\n[Parallel(n_jobs=-1)]: Done 496 tasks      | elapsed:  1.5min\n[Parallel(n_jobs=-1)]: Done 529 tasks      | elapsed:  2.2min\n[Parallel(n_jobs=-1)]: Done 562 tasks      | elapsed:  2.9min\n[Parallel(n_jobs=-1)]: Done 597 tasks      | elapsed:  3.3min\n[Parallel(n_jobs=-1)]: Done 632 tasks      | elapsed:  4.1min\n[Parallel(n_jobs=-1)]: Done 669 tasks      | elapsed:  4.7min\n[Parallel(n_jobs=-1)]: Done 720 out of 720 | elapsed:  5.3min finished\n"
    },
    {
     "output_type": "execute_result",
     "data": {
      "text/plain": "GridSearchCV(estimator=GradientBoostingRegressor(), n_jobs=-1,\n             param_grid={'criterion': ['friedman_mse', 'mse', 'mae'],\n                         'loss': ['ls', 'lad', 'huber', 'quantile'],\n                         'max_features': [None, 'auto', 'sqrt', 'log2'],\n                         'n_estimators': [10, 100, 1000], 'random_state': [0]},\n             verbose=10)"
     },
     "metadata": {},
     "execution_count": 13
    }
   ],
   "source": [
    "from sklearn.ensemble import GradientBoostingRegressor\n",
    "from sklearn.model_selection import GridSearchCV\n",
    "\n",
    "params = {\n",
    "    'n_estimators': [10, 100, 1000],\n",
    "    'criterion': ['friedman_mse', 'mse', 'mae'],\n",
    "    'max_features': [None, 'auto', 'sqrt', 'log2'],\n",
    "    'loss': ['ls', 'lad', 'huber', 'quantile'],\n",
    "    'random_state': [0]\n",
    "}\n",
    "\n",
    "regressors = GridSearchCV(estimator=GradientBoostingRegressor(), param_grid=params, verbose=10, n_jobs=-1)\n",
    "regressors.fit(X_train, y_train)"
   ]
  },
  {
   "cell_type": "markdown",
   "metadata": {},
   "source": [
    "## Predicting the Test set results"
   ]
  },
  {
   "cell_type": "code",
   "execution_count": 14,
   "metadata": {
    "tags": []
   },
   "outputs": [
    {
     "output_type": "stream",
     "name": "stdout",
     "text": "[[129.89 130.79]\n [119.37 119.54]\n [110.81 110.32]\n [116.95 117.4 ]\n [127.17 127.62]\n [121.35 121.66]\n [119.43 118.69]\n [127.89 130.03]\n [113.98 114.73]\n [125.33 124.21]\n [125.49 125.84]\n [131.75 131.52]\n [131.29 130.7 ]\n [116.59 117.81]\n [125.51 126.66]\n [114.39 113.14]\n [127.64 126.76]\n [133.41 133.38]\n [117.22 118.08]\n [115.07 116.15]\n [123.84 123.46]\n [130.15 130.09]\n [129.47 129.93]\n [127.08 120.66]\n [132.04 134.06]\n [121.91 122.09]\n [116.18 117.09]\n [139.28 138.76]\n [129.93 130.83]\n [130.82 128.24]\n [130.31 128.95]\n [121.88 122.53]\n [103.87 103.38]\n [128.73 126.41]\n [132.45 131.8 ]\n [130.66 130.96]\n [118.4  119.25]\n [112.3  109.64]\n [126.4  127.78]\n [128.3  129.01]\n [131.34 132.54]\n [124.59 125.48]\n [129.16 138.27]\n [122.25 123.13]\n [109.61 111.03]\n [133.59 135.96]\n [128.02 127.12]\n [128.81 129.67]\n [130.65 125.65]\n [127.81 129.24]\n [126.08 123.21]\n [125.86 127.  ]\n [119.07 119.91]\n [126.48 126.56]\n [121.54 121.53]\n [121.88 122.23]\n [114.73 113.3 ]\n [129.38 128.34]\n [121.73 121.73]\n [121.35 118.9 ]\n [127.68 122.43]\n [132.01 133.24]\n [126.62 127.64]\n [133.52 136.17]\n [126.24 124.36]\n [126.44 127.59]\n [127.05 128.35]\n [131.46 133.76]\n [131.51 132.13]\n [112.17 113.8 ]\n [125.66 125.72]\n [127.16 126.09]\n [125.64 121.01]\n [130.28 130.05]\n [127.59 126.65]\n [123.29 123.45]\n [123.52 122.09]\n [126.93 126.51]\n [132.88 133.66]\n [129.08 130.18]\n [131.33 129.12]\n [128.71 128.41]\n [120.64 118.11]\n [123.49 122.8 ]\n [127.17 127.31]\n [116.67 118.11]\n [129.24 128.81]\n [121.54 121.77]\n [133.64 134.53]\n [127.04 127.38]\n [132.33 130.99]\n [130.47 127.12]\n [119.62 119.11]\n [111.87 110.65]\n [126.46 126.42]\n [108.47 107.28]\n [109.02 108.19]\n [135.14 136.1 ]\n [122.53 120.51]\n [122.43 122.78]\n [124.61 125.16]\n [134.53 135.94]\n [130.2  129.01]\n [129.53 131.86]\n [134.44 133.28]\n [129.02 129.58]\n [132.47 133.05]\n [130.81 130.79]\n [129.99 131.71]\n [134.36 136.68]\n [134.67 123.23]\n [125.71 125.04]\n [126.34 127.83]\n [126.99 127.46]\n [127.8  129.09]\n [120.43 120.98]\n [130.7  130.72]\n [121.12 120.7 ]\n [128.19 128.63]\n [127.07 122.2 ]\n [123.05 123.3 ]\n [121.41 119.7 ]\n [125.96 127.31]\n [129.63 127.14]\n [130.38 124.46]\n [115.39 116.02]\n [129.36 131.72]\n [127.89 129.69]\n [127.5  126.84]\n [120.72 120.65]\n [132.4  131.36]\n [125.11 123.22]\n [125.79 125.63]\n [121.36 115.44]\n [127.73 128.33]\n [125.65 125.97]\n [121.32 120.58]\n [131.3  132.66]\n [122.62 123.21]\n [114.9  112.16]\n [112.35 114.08]\n [115.95 114.67]\n [128.98 127.81]\n [126.98 123.26]\n [116.82 116.66]\n [125.65 122.97]\n [118.03 116.47]\n [129.22 129.27]\n [120.12 121.12]\n [129.47 130.43]\n [125.22 125.57]\n [129.36 131.6 ]\n [116.37 119.15]\n [122.92 123.24]\n [125.32 126.51]\n [121.98 122.82]\n [138.09 133.5 ]\n [127.61 126.93]\n [120.9  119.88]\n [132.87 133.96]\n [114.43 113.73]\n [125.48 125.05]\n [124.87 125.23]\n [130.49 130.24]\n [127.96 124.51]\n [127.31 128.26]\n [126.48 124.88]\n [117.49 118.62]\n [136.26 138.54]\n [114.45 112.93]\n [113.36 113.08]\n [129.68 128.17]\n [128.45 125.81]\n [125.64 124.99]\n [125.91 126.84]\n [115.16 116.86]\n [126.11 125.72]\n [122.96 123.12]\n [125.99 125.31]\n [120.87 122.17]\n [131.81 131.46]\n [124.42 121.59]\n [131.89 134.15]\n [122.55 119.19]\n [127.95 125.95]\n [134.43 129.95]\n [127.2  127.58]\n [129.51 129.58]\n [120.75 120.26]\n [125.87 126.16]\n [125.88 124.84]\n [120.92 119.14]\n [125.8  126.81]\n [126.35 125.96]\n [121.7  118.62]\n [135.25 134.93]\n [128.82 130.72]\n [115.2  113.08]\n [121.67 121.85]\n [126.15 126.34]\n [115.27 114.45]\n [130.19 130.59]\n [125.99 126.99]\n [126.41 126.41]\n [109.1  106.11]\n [131.75 130.22]\n [131.26 131.07]\n [119.14 118.13]\n [118.77 118.55]\n [129.85 130.99]\n [134.13 130.5 ]\n [132.72 131.78]\n [127.16 127.4 ]\n [128.05 125.2 ]\n [128.76 130.03]\n [128.25 130.21]\n [134.42 138.42]\n [128.18 128.82]\n [132.98 133.61]\n [116.31 117.65]\n [129.46 130.4 ]\n [130.49 132.4 ]\n [131.4  131.75]\n [117.87 116.02]\n [126.61 123.74]\n [111.92 108.65]\n [131.61 129.88]\n [127.08 126.47]\n [128.03 128.58]\n [121.24 115.81]\n [128.12 128.18]\n [126.22 126.15]\n [125.82 126.67]\n [131.22 132.3 ]\n [114.87 117.72]\n [123.59 124.09]\n [129.47 128.44]\n [125.45 127.69]\n [117.02 118.77]\n [127.01 126.27]\n [120.87 121.06]\n [129.04 128.48]\n [127.47 126.86]\n [113.76 114.78]\n [105.76 107.15]\n [122.74 120.24]\n [127.17 127.36]\n [124.88 124.16]\n [123.85 124.36]\n [127.45 128.56]\n [108.17 108.69]\n [108.88 109.89]\n [132.57 136.41]\n [132.34 133.55]\n [124.73 125.03]\n [124.39 123.7 ]\n [119.24 120.25]\n [127.49 128.71]\n [118.64 117.14]\n [104.89 104.5 ]\n [125.18 125.35]\n [125.34 119.1 ]\n [120.12 121.24]\n [129.03 128.92]\n [125.03 125.35]\n [133.74 134.32]\n [129.39 130.56]\n [131.8  132.76]\n [117.82 120.14]\n [131.4  130.75]\n [129.98 128.68]\n [125.75 125.11]\n [133.65 134.31]\n [126.49 124.84]\n [133.23 127.56]\n [128.14 125.68]\n [123.41 122.23]\n [128.8  128.29]\n [115.79 115.14]\n [118.97 120.23]\n [117.45 116.91]\n [133.71 133.42]\n [132.   134.51]\n [120.06 119.97]\n [117.42 117.25]\n [131.61 129.99]\n [124.25 125.27]\n [102.85 104.2 ]\n [125.36 125.58]\n [119.45 119.29]\n [121.48 120.54]\n [132.22 129.28]\n [121.86 121.82]\n [121.61 121.93]\n [109.44 109.62]\n [137.22 138.61]\n [126.75 127.61]\n [128.89 130.44]\n [129.44 131.01]\n [129.28 125.58]\n [114.3  112.59]\n [130.51 127.21]\n [134.88 136.28]\n [115.13 117.5 ]\n [122.06 122.34]\n [113.73 114.04]\n [131.66 135.08]\n [126.39 127.23]\n [123.   123.69]\n [117.96 118.  ]\n [136.12 135.35]\n [125.67 126.53]\n [130.13 135.37]\n [110.66 111.96]\n [127.87 125.82]\n [119.25 119.62]\n [130.99 132.04]\n [116.69 118.36]\n [126.63 124.75]\n [110.73 112.51]\n [121.78 122.38]\n [119.76 120.5 ]\n [123.68 121.31]\n [109.8  109.25]\n [118.9  119.5 ]\n [116.8  118.21]\n [126.17 124.36]\n [117.58 115.91]\n [136.05 139.44]\n [124.06 124.49]\n [129.62 129.68]\n [139.18 134.53]\n [113.95 114.31]\n [127.08 129.45]\n [118.45 116.41]\n [118.33 118.13]\n [117.67 118.71]\n [130.5  131.84]\n [109.68 110.91]\n [128.99 129.57]\n [130.31 124.27]\n [128.54 129.03]\n [126.81 124.85]\n [115.54 115.68]\n [116.28 117.62]\n [126.4  127.13]\n [119.95 119.38]\n [119.98 119.07]\n [120.19 118.94]\n [113.5  113.33]\n [129.3  127.7 ]\n [131.06 131.46]\n [122.34 121.48]\n [128.63 129.8 ]\n [126.62 127.04]\n [132.27 134.  ]\n [129.79 128.77]\n [124.84 124.45]\n [125.3  124.84]\n [117.4  114.9 ]\n [119.98 118.76]\n [127.79 128.35]\n [131.72 130.2 ]\n [117.97 118.14]\n [131.12 133.1 ]\n [126.54 125.73]\n [116.39 116.24]\n [123.96 124.17]\n [113.74 115.86]\n [126.73 129.97]\n [121.8  121.4 ]\n [121.99 120.77]\n [116.96 118.12]\n [131.41 132.51]\n [132.65 132.3 ]\n [127.63 127.64]]\n"
    }
   ],
   "source": [
    "regressor = regressors.best_estimator_\n",
    "y_pred = regressor.predict(X_test)\n",
    "np.set_printoptions(precision=2)\n",
    "print(np.concatenate((y_pred.reshape(len(y_pred),1), y_test.reshape(len(y_test),1)),1))"
   ]
  },
  {
   "cell_type": "markdown",
   "metadata": {},
   "source": [
    "## Measuring performance"
   ]
  },
  {
   "cell_type": "code",
   "execution_count": 15,
   "metadata": {},
   "outputs": [],
   "source": [
    "from sklearn.metrics import r2_score \n",
    "from sklearn.metrics import mean_squared_error\n",
    "from sklearn.metrics import median_absolute_error"
   ]
  },
  {
   "cell_type": "code",
   "execution_count": 16,
   "metadata": {},
   "outputs": [
    {
     "output_type": "execute_result",
     "data": {
      "text/plain": "0.9234856271537567"
     },
     "metadata": {},
     "execution_count": 16
    }
   ],
   "source": [
    "r2_score(y_test, y_pred)"
   ]
  },
  {
   "cell_type": "code",
   "execution_count": 17,
   "metadata": {},
   "outputs": [
    {
     "output_type": "execute_result",
     "data": {
      "text/plain": "3.6293943443107173"
     },
     "metadata": {},
     "execution_count": 17
    }
   ],
   "source": [
    "mean_squared_error(y_test, y_pred)"
   ]
  },
  {
   "cell_type": "code",
   "execution_count": 18,
   "metadata": {},
   "outputs": [
    {
     "output_type": "execute_result",
     "data": {
      "text/plain": "0.9988991031968553"
     },
     "metadata": {},
     "execution_count": 18
    }
   ],
   "source": [
    "median_absolute_error(y_test, y_pred)"
   ]
  }
 ]
}