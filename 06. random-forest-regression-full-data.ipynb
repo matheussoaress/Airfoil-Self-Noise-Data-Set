{
 "metadata": {
  "language_info": {
   "codemirror_mode": {
    "name": "ipython",
    "version": 3
   },
   "file_extension": ".py",
   "mimetype": "text/x-python",
   "name": "python",
   "nbconvert_exporter": "python",
   "pygments_lexer": "ipython3",
   "version": "3.8.5-final"
  },
  "orig_nbformat": 2,
  "kernelspec": {
   "name": "python3",
   "display_name": "Python 3"
  }
 },
 "nbformat": 4,
 "nbformat_minor": 2,
 "cells": [
  {
   "cell_type": "markdown",
   "metadata": {},
   "source": [
    "# Data Processing"
   ]
  },
  {
   "cell_type": "markdown",
   "metadata": {},
   "source": [
    "## Importing the libraries"
   ]
  },
  {
   "cell_type": "code",
   "execution_count": 1,
   "metadata": {},
   "outputs": [],
   "source": [
    "import numpy as np\n",
    "import matplotlib.pyplot as plt\n",
    "import pandas as pd"
   ]
  },
  {
   "cell_type": "markdown",
   "metadata": {},
   "source": [
    "## Importing the dataset"
   ]
  },
  {
   "cell_type": "code",
   "execution_count": 2,
   "metadata": {},
   "outputs": [],
   "source": [
    "dataset = pd.read_table(\"data/airfoil_self_noise.dat\", \n",
    "                        header=None, \n",
    "                        names=['frequency', 'angle_of_attack', 'chord_length', 'free_stream_velocity', \n",
    "                               'suction_side_displacement_thickness', 'scaled_sound_pressure_level'])\n",
    "X = dataset.iloc[:,:-1].values\n",
    "y = dataset.iloc[:,-1].values"
   ]
  },
  {
   "cell_type": "code",
   "execution_count": 3,
   "metadata": {},
   "outputs": [
    {
     "output_type": "execute_result",
     "data": {
      "text/plain": "array([[8.00000e+02, 0.00000e+00, 3.04800e-01, 7.13000e+01, 2.66337e-03],\n       [1.00000e+03, 0.00000e+00, 3.04800e-01, 7.13000e+01, 2.66337e-03],\n       [1.25000e+03, 0.00000e+00, 3.04800e-01, 7.13000e+01, 2.66337e-03],\n       ...,\n       [4.00000e+03, 1.56000e+01, 1.01600e-01, 3.96000e+01, 5.28487e-02],\n       [5.00000e+03, 1.56000e+01, 1.01600e-01, 3.96000e+01, 5.28487e-02],\n       [6.30000e+03, 1.56000e+01, 1.01600e-01, 3.96000e+01, 5.28487e-02]])"
     },
     "metadata": {},
     "execution_count": 3
    }
   ],
   "source": [
    "X"
   ]
  },
  {
   "cell_type": "code",
   "execution_count": 4,
   "metadata": {},
   "outputs": [
    {
     "output_type": "execute_result",
     "data": {
      "text/plain": "array([126.201, 125.201, 125.951, ..., 106.604, 106.224, 104.204])"
     },
     "metadata": {},
     "execution_count": 4
    }
   ],
   "source": [
    "y"
   ]
  },
  {
   "cell_type": "markdown",
   "metadata": {},
   "source": [
    "## Feature Scaling"
   ]
  },
  {
   "cell_type": "code",
   "execution_count": 5,
   "metadata": {},
   "outputs": [],
   "source": [
    "from sklearn.preprocessing import StandardScaler\n",
    "\n",
    "sc = StandardScaler()\n",
    "X = sc.fit_transform(X)"
   ]
  },
  {
   "cell_type": "markdown",
   "metadata": {},
   "source": [
    "## Splitting the dataset into the Training set and Test set"
   ]
  },
  {
   "cell_type": "code",
   "execution_count": 6,
   "metadata": {},
   "outputs": [],
   "source": [
    "from sklearn.model_selection import train_test_split\n",
    "X_train, X_test, y_train, y_test = train_test_split(X, y, test_size = 0.25, random_state = 0)"
   ]
  },
  {
   "cell_type": "markdown",
   "metadata": {},
   "source": [
    "## Training "
   ]
  },
  {
   "cell_type": "code",
   "execution_count": 7,
   "metadata": {
    "tags": []
   },
   "outputs": [
    {
     "output_type": "stream",
     "name": "stdout",
     "text": "Fitting 5 folds for each of 48 candidates, totalling 240 fits\n[Parallel(n_jobs=-1)]: Using backend LokyBackend with 8 concurrent workers.\n[Parallel(n_jobs=-1)]: Done   2 tasks      | elapsed:    2.0s\n[Parallel(n_jobs=-1)]: Done   9 tasks      | elapsed:    2.9s\n[Parallel(n_jobs=-1)]: Done  16 tasks      | elapsed:    3.9s\n[Parallel(n_jobs=-1)]: Done  25 tasks      | elapsed:    9.6s\n[Parallel(n_jobs=-1)]: Done  34 tasks      | elapsed:   10.8s\n[Parallel(n_jobs=-1)]: Done  45 tasks      | elapsed:   13.4s\n[Parallel(n_jobs=-1)]: Done  56 tasks      | elapsed:   17.0s\n[Parallel(n_jobs=-1)]: Done  69 tasks      | elapsed:   21.8s\n[Parallel(n_jobs=-1)]: Done  82 tasks      | elapsed:   55.1s\n[Parallel(n_jobs=-1)]: Done  97 tasks      | elapsed:  1.1min\n[Parallel(n_jobs=-1)]: Done 112 tasks      | elapsed:  1.3min\n[Parallel(n_jobs=-1)]: Done 129 tasks      | elapsed:  1.6min\n[Parallel(n_jobs=-1)]: Done 146 tasks      | elapsed:  1.7min\n[Parallel(n_jobs=-1)]: Done 165 tasks      | elapsed:  1.8min\n[Parallel(n_jobs=-1)]: Done 184 tasks      | elapsed:  1.9min\n[Parallel(n_jobs=-1)]: Done 205 tasks      | elapsed:  3.0min\n[Parallel(n_jobs=-1)]: Done 240 out of 240 | elapsed:  4.1min finished\n"
    },
    {
     "output_type": "execute_result",
     "data": {
      "text/plain": "GridSearchCV(estimator=RandomForestRegressor(), n_jobs=-1,\n             param_grid={'bootstrap': [True, False],\n                         'criterion': ['mse', 'mae'],\n                         'max_features': [None, 'auto', 'sqrt', 'log2'],\n                         'n_estimators': [10, 100, 1000], 'random_state': [0]},\n             verbose=10)"
     },
     "metadata": {},
     "execution_count": 7
    }
   ],
   "source": [
    "from sklearn.ensemble import RandomForestRegressor\n",
    "from sklearn.model_selection import GridSearchCV\n",
    "\n",
    "params = {\n",
    "    'n_estimators': [10, 100, 1000],\n",
    "    'criterion': ['mse', 'mae'],\n",
    "    'max_features': [None, 'auto', 'sqrt', 'log2'],\n",
    "    'bootstrap': [True, False],\n",
    "    'random_state': [0]\n",
    "}\n",
    "\n",
    "regressors = GridSearchCV(estimator=RandomForestRegressor(), param_grid=params, verbose=10, n_jobs=-1)\n",
    "regressors.fit(X_train, y_train)"
   ]
  },
  {
   "cell_type": "markdown",
   "metadata": {},
   "source": [
    "## Predicting the Test set results"
   ]
  },
  {
   "cell_type": "code",
   "execution_count": 8,
   "metadata": {
    "tags": []
   },
   "outputs": [
    {
     "output_type": "stream",
     "name": "stdout",
     "text": "[[131.95 130.79]\n [118.82 119.54]\n [111.08 110.32]\n [116.69 117.4 ]\n [126.8  127.62]\n [122.03 121.66]\n [118.91 118.69]\n [127.55 130.03]\n [115.29 114.73]\n [125.12 124.21]\n [125.85 125.84]\n [132.61 131.52]\n [130.19 130.7 ]\n [118.91 117.81]\n [126.08 126.66]\n [115.71 113.14]\n [127.93 126.76]\n [133.9  133.38]\n [115.72 118.08]\n [116.68 116.15]\n [123.35 123.46]\n [130.35 130.09]\n [129.06 129.93]\n [125.53 120.66]\n [131.97 134.06]\n [121.82 122.09]\n [114.02 117.09]\n [138.83 138.76]\n [129.51 130.83]\n [130.2  128.24]\n [129.46 128.95]\n [123.63 122.53]\n [105.7  103.38]\n [126.77 126.41]\n [133.18 131.8 ]\n [130.63 130.96]\n [116.77 119.25]\n [112.84 109.64]\n [126.73 127.78]\n [127.16 129.01]\n [132.24 132.54]\n [124.32 125.48]\n [134.08 138.27]\n [122.57 123.13]\n [112.42 111.03]\n [134.09 135.96]\n [126.45 127.12]\n [128.9  129.67]\n [128.17 125.65]\n [127.29 129.24]\n [124.23 123.21]\n [124.69 127.  ]\n [122.2  119.91]\n [127.06 126.56]\n [121.25 121.53]\n [121.86 122.23]\n [116.45 113.3 ]\n [130.85 128.34]\n [121.56 121.73]\n [119.21 118.9 ]\n [125.95 122.43]\n [132.14 133.24]\n [127.54 127.64]\n [133.86 136.17]\n [126.5  124.36]\n [125.24 127.59]\n [127.13 128.35]\n [131.31 133.76]\n [131.01 132.13]\n [114.82 113.8 ]\n [128.14 125.72]\n [126.64 126.09]\n [125.76 121.01]\n [131.95 130.05]\n [127.17 126.65]\n [124.14 123.45]\n [123.42 122.09]\n [125.24 126.51]\n [133.55 133.66]\n [129.73 130.18]\n [129.14 129.12]\n [130.87 128.41]\n [119.21 118.11]\n [123.1  122.8 ]\n [126.2  127.31]\n [118.65 118.11]\n [128.76 128.81]\n [123.79 121.77]\n [133.8  134.53]\n [126.23 127.38]\n [131.9  130.99]\n [127.86 127.12]\n [121.75 119.11]\n [113.1  110.65]\n [126.34 126.42]\n [109.26 107.28]\n [110.68 108.19]\n [135.78 136.1 ]\n [122.2  120.51]\n [121.14 122.78]\n [125.44 125.16]\n [135.14 135.94]\n [129.08 129.01]\n [130.37 131.86]\n [134.63 133.28]\n [130.64 129.58]\n [131.79 133.05]\n [130.19 130.79]\n [130.96 131.71]\n [136.14 136.68]\n [133.38 123.23]\n [126.19 125.04]\n [126.16 127.83]\n [127.22 127.46]\n [126.99 129.09]\n [120.84 120.98]\n [129.99 130.72]\n [120.38 120.7 ]\n [127.87 128.63]\n [126.4  122.2 ]\n [122.92 123.3 ]\n [122.94 119.7 ]\n [125.9  127.31]\n [126.42 127.14]\n [127.49 124.46]\n [117.76 116.02]\n [130.38 131.72]\n [127.6  129.69]\n [127.1  126.84]\n [120.52 120.65]\n [131.   131.36]\n [125.62 123.22]\n [125.08 125.63]\n [117.07 115.44]\n [127.69 128.33]\n [126.86 125.97]\n [121.01 120.58]\n [132.05 132.66]\n [123.28 123.21]\n [113.03 112.16]\n [114.19 114.08]\n [116.62 114.67]\n [128.59 127.81]\n [121.18 123.26]\n [118.52 116.66]\n [123.18 122.97]\n [115.99 116.47]\n [127.36 129.27]\n [120.32 121.12]\n [129.53 130.43]\n [125.44 125.57]\n [131.99 131.6 ]\n [120.3  119.15]\n [123.23 123.24]\n [124.68 126.51]\n [121.97 122.82]\n [134.96 133.5 ]\n [125.4  126.93]\n [121.48 119.88]\n [132.21 133.96]\n [115.33 113.73]\n [123.84 125.05]\n [124.83 125.23]\n [130.14 130.24]\n [126.39 124.51]\n [127.48 128.26]\n [126.03 124.88]\n [116.38 118.62]\n [136.93 138.54]\n [114.32 112.93]\n [113.81 113.08]\n [129.11 128.17]\n [127.93 125.81]\n [128.11 124.99]\n [124.22 126.84]\n [117.02 116.86]\n [125.36 125.72]\n [124.18 123.12]\n [125.79 125.31]\n [122.1  122.17]\n [131.75 131.46]\n [122.56 121.59]\n [133.19 134.15]\n [119.67 119.19]\n [126.87 125.95]\n [132.55 129.95]\n [128.27 127.58]\n [128.68 129.58]\n [120.26 120.26]\n [126.01 126.16]\n [126.45 124.84]\n [119.7  119.14]\n [126.99 126.81]\n [126.14 125.96]\n [121.49 118.62]\n [133.72 134.93]\n [129.58 130.72]\n [115.67 113.08]\n [122.5  121.85]\n [125.33 126.34]\n [115.64 114.45]\n [129.01 130.59]\n [126.65 126.99]\n [127.12 126.41]\n [109.09 106.11]\n [129.5  130.22]\n [130.34 131.07]\n [118.76 118.13]\n [118.72 118.55]\n [129.46 130.99]\n [132.87 130.5 ]\n [131.42 131.78]\n [127.26 127.4 ]\n [126.36 125.2 ]\n [128.39 130.03]\n [128.44 130.21]\n [137.51 138.42]\n [127.87 128.82]\n [130.74 133.61]\n [117.32 117.65]\n [130.07 130.4 ]\n [132.14 132.4 ]\n [131.53 131.75]\n [115.94 116.02]\n [123.29 123.74]\n [114.73 108.65]\n [132.58 129.88]\n [126.67 126.47]\n [127.28 128.58]\n [122.01 115.81]\n [127.68 128.18]\n [124.49 126.15]\n [125.56 126.67]\n [132.21 132.3 ]\n [117.47 117.72]\n [123.65 124.09]\n [130.15 128.44]\n [125.98 127.69]\n [119.82 118.77]\n [125.44 126.27]\n [121.14 121.06]\n [129.78 128.48]\n [126.49 126.86]\n [114.66 114.78]\n [108.39 107.15]\n [118.06 120.24]\n [126.42 127.36]\n [126.88 124.16]\n [123.53 124.36]\n [127.62 128.56]\n [110.44 108.69]\n [110.82 109.89]\n [135.58 136.41]\n [133.03 133.55]\n [124.85 125.03]\n [123.46 123.7 ]\n [117.56 120.25]\n [127.62 128.71]\n [117.87 117.14]\n [106.   104.5 ]\n [123.53 125.35]\n [122.87 119.1 ]\n [117.97 121.24]\n [128.29 128.92]\n [126.54 125.35]\n [134.77 134.32]\n [128.14 130.56]\n [132.13 132.76]\n [120.67 120.14]\n [129.77 130.75]\n [130.11 128.68]\n [124.31 125.11]\n [134.58 134.31]\n [126.25 124.84]\n [132.27 127.56]\n [130.93 125.68]\n [123.73 122.23]\n [128.57 128.29]\n [115.34 115.14]\n [119.21 120.23]\n [115.85 116.91]\n [133.83 133.42]\n [133.8  134.51]\n [121.5  119.97]\n [115.85 117.25]\n [128.76 129.99]\n [124.27 125.27]\n [106.82 104.2 ]\n [127.2  125.58]\n [119.04 119.29]\n [123.4  120.54]\n [128.86 129.28]\n [121.46 121.82]\n [122.8  121.93]\n [111.61 109.62]\n [136.9  138.61]\n [128.65 127.61]\n [129.32 130.44]\n [130.54 131.01]\n [128.67 125.58]\n [115.9  112.59]\n [129.73 127.21]\n [136.4  136.28]\n [119.57 117.5 ]\n [122.52 122.34]\n [114.18 114.04]\n [134.7  135.08]\n [126.61 127.23]\n [123.65 123.69]\n [121.67 118.  ]\n [136.21 135.35]\n [125.19 126.53]\n [134.28 135.37]\n [113.13 111.96]\n [125.04 125.82]\n [117.97 119.62]\n [131.93 132.04]\n [118.26 118.36]\n [123.16 124.75]\n [114.63 112.51]\n [122.31 122.38]\n [121.24 120.5 ]\n [122.56 121.31]\n [109.2  109.25]\n [120.71 119.5 ]\n [119.26 118.21]\n [125.22 124.36]\n [116.03 115.91]\n [139.06 139.44]\n [123.48 124.49]\n [128.85 129.68]\n [135.4  134.53]\n [114.53 114.31]\n [130.31 129.45]\n [117.67 116.41]\n [118.84 118.13]\n [118.86 118.71]\n [131.81 131.84]\n [110.41 110.91]\n [129.8  129.57]\n [128.85 124.27]\n [128.38 129.03]\n [125.95 124.85]\n [115.92 115.68]\n [117.09 117.62]\n [126.6  127.13]\n [122.98 119.38]\n [122.88 119.07]\n [120.93 118.94]\n [115.49 113.33]\n [131.2  127.7 ]\n [130.05 131.46]\n [122.13 121.48]\n [129.5  129.8 ]\n [127.71 127.04]\n [133.19 134.  ]\n [127.86 128.77]\n [125.7  124.45]\n [125.17 124.84]\n [116.56 114.9 ]\n [119.5  118.76]\n [129.41 128.35]\n [128.86 130.2 ]\n [118.47 118.14]\n [131.66 133.1 ]\n [128.5  125.73]\n [117.48 116.24]\n [123.46 124.17]\n [118.02 115.86]\n [129.02 129.97]\n [121.7  121.4 ]\n [121.38 120.77]\n [116.39 118.12]\n [133.42 132.51]\n [132.08 132.3 ]\n [127.85 127.64]]\n"
    }
   ],
   "source": [
    "regressor = regressors.best_estimator_\n",
    "y_pred = regressor.predict(X_test)\n",
    "np.set_printoptions(precision=2)\n",
    "print(np.concatenate((y_pred.reshape(len(y_pred),1), y_test.reshape(len(y_test),1)),1))"
   ]
  },
  {
   "cell_type": "markdown",
   "metadata": {},
   "source": [
    "## Measuring performance"
   ]
  },
  {
   "cell_type": "code",
   "execution_count": 9,
   "metadata": {},
   "outputs": [],
   "source": [
    "from sklearn.metrics import r2_score \n",
    "from sklearn.metrics import mean_squared_error\n",
    "from sklearn.metrics import median_absolute_error"
   ]
  },
  {
   "cell_type": "code",
   "execution_count": 10,
   "metadata": {},
   "outputs": [
    {
     "output_type": "execute_result",
     "data": {
      "text/plain": "0.9405274454363514"
     },
     "metadata": {},
     "execution_count": 10
    }
   ],
   "source": [
    "r2_score(y_test, y_pred)"
   ]
  },
  {
   "cell_type": "code",
   "execution_count": 11,
   "metadata": {},
   "outputs": [
    {
     "output_type": "execute_result",
     "data": {
      "text/plain": "2.821030156108962"
     },
     "metadata": {},
     "execution_count": 11
    }
   ],
   "source": [
    "mean_squared_error(y_test, y_pred)"
   ]
  },
  {
   "cell_type": "code",
   "execution_count": 12,
   "metadata": {},
   "outputs": [
    {
     "output_type": "execute_result",
     "data": {
      "text/plain": "0.9402520000007399"
     },
     "metadata": {},
     "execution_count": 12
    }
   ],
   "source": [
    "median_absolute_error(y_test, y_pred)"
   ]
  }
 ]
}