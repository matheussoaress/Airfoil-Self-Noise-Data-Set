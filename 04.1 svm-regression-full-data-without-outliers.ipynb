{
 "metadata": {
  "language_info": {
   "codemirror_mode": {
    "name": "ipython",
    "version": 3
   },
   "file_extension": ".py",
   "mimetype": "text/x-python",
   "name": "python",
   "nbconvert_exporter": "python",
   "pygments_lexer": "ipython3",
   "version": "3.8.5-final"
  },
  "orig_nbformat": 2,
  "kernelspec": {
   "name": "python3",
   "display_name": "Python 3"
  }
 },
 "nbformat": 4,
 "nbformat_minor": 2,
 "cells": [
  {
   "cell_type": "markdown",
   "metadata": {},
   "source": [
    "# Data Processing"
   ]
  },
  {
   "cell_type": "markdown",
   "metadata": {},
   "source": [
    "## Importing the libraries"
   ]
  },
  {
   "cell_type": "code",
   "execution_count": 1,
   "metadata": {},
   "outputs": [],
   "source": [
    "import numpy as np\n",
    "import matplotlib.pyplot as plt\n",
    "import pandas as pd"
   ]
  },
  {
   "cell_type": "markdown",
   "metadata": {},
   "source": [
    "## Importing the dataset"
   ]
  },
  {
   "cell_type": "code",
   "execution_count": 2,
   "metadata": {},
   "outputs": [],
   "source": [
    "dataset = pd.read_table(\"data/airfoil_self_noise.dat\", \n",
    "                        header=None, \n",
    "                        names=['frequency', 'angle_of_attack', 'chord_length', 'free_stream_velocity', \n",
    "                               'suction_side_displacement_thickness', 'scaled_sound_pressure_level'])\n",
    "X = dataset.iloc[:,:-1].values\n",
    "y = dataset.iloc[:,-1].values"
   ]
  },
  {
   "cell_type": "code",
   "execution_count": 3,
   "metadata": {},
   "outputs": [
    {
     "output_type": "execute_result",
     "data": {
      "text/plain": "array([[8.00000e+02, 0.00000e+00, 3.04800e-01, 7.13000e+01, 2.66337e-03],\n       [1.00000e+03, 0.00000e+00, 3.04800e-01, 7.13000e+01, 2.66337e-03],\n       [1.25000e+03, 0.00000e+00, 3.04800e-01, 7.13000e+01, 2.66337e-03],\n       ...,\n       [4.00000e+03, 1.56000e+01, 1.01600e-01, 3.96000e+01, 5.28487e-02],\n       [5.00000e+03, 1.56000e+01, 1.01600e-01, 3.96000e+01, 5.28487e-02],\n       [6.30000e+03, 1.56000e+01, 1.01600e-01, 3.96000e+01, 5.28487e-02]])"
     },
     "metadata": {},
     "execution_count": 3
    }
   ],
   "source": [
    "X"
   ]
  },
  {
   "cell_type": "code",
   "execution_count": 4,
   "metadata": {},
   "outputs": [
    {
     "output_type": "execute_result",
     "data": {
      "text/plain": "array([126.201, 125.201, 125.951, ..., 106.604, 106.224, 104.204])"
     },
     "metadata": {},
     "execution_count": 4
    }
   ],
   "source": [
    "y"
   ]
  },
  {
   "cell_type": "markdown",
   "metadata": {},
   "source": [
    "## Feature Scaling"
   ]
  },
  {
   "cell_type": "code",
   "execution_count": 5,
   "metadata": {},
   "outputs": [],
   "source": [
    "from sklearn.preprocessing import StandardScaler\n",
    "\n",
    "sc = StandardScaler()\n",
    "X = sc.fit_transform(X)"
   ]
  },
  {
   "cell_type": "markdown",
   "metadata": {},
   "source": [
    "## Splitting the dataset into the Training set and Test set"
   ]
  },
  {
   "cell_type": "code",
   "execution_count": 6,
   "metadata": {},
   "outputs": [],
   "source": [
    "from sklearn.model_selection import train_test_split\n",
    "X_train, X_test, y_train, y_test = train_test_split(X, y, test_size = 0.25, random_state = 0)"
   ]
  },
  {
   "cell_type": "markdown",
   "metadata": {},
   "source": [
    "## Training "
   ]
  },
  {
   "cell_type": "code",
   "execution_count": 7,
   "metadata": {
    "tags": []
   },
   "outputs": [
    {
     "output_type": "stream",
     "name": "stdout",
     "text": "Fitting 5 folds for each of 24 candidates, totalling 120 fits\n[CV] degree=3, gamma=scale, kernel=linear ............................\n[CV]  degree=3, gamma=scale, kernel=linear, score=0.454, total=   0.0s\n[CV] degree=3, gamma=scale, kernel=linear ............................\n[CV]  degree=3, gamma=scale, kernel=linear, score=0.398, total=   0.0s\n[CV] degree=3, gamma=scale, kernel=linear ............................\n[CV]  degree=3, gamma=scale, kernel=linear, score=0.493, total=   0.0s\n[CV] degree=3, gamma=scale, kernel=linear ............................\n[CV]  degree=3, gamma=scale, kernel=linear, score=0.522, total=   0.0s\n[CV] degree=3, gamma=scale, kernel=linear ............................\n[CV]  degree=3, gamma=scale, kernel=linear, score=0.556, total=   0.0s\n[CV] degree=3, gamma=scale, kernel=poly ..............................\n[CV] .. degree=3, gamma=scale, kernel=poly, score=0.474, total=   0.0s\n[CV] degree=3, gamma=scale, kernel=poly ..............................\n[CV] .. degree=3, gamma=scale, kernel=poly, score=0.556, total=   0.0s[Parallel(n_jobs=1)]: Using backend SequentialBackend with 1 concurrent workers.\n[Parallel(n_jobs=1)]: Done   1 out of   1 | elapsed:    0.0s remaining:    0.0s\n[Parallel(n_jobs=1)]: Done   2 out of   2 | elapsed:    0.0s remaining:    0.0s\n[Parallel(n_jobs=1)]: Done   3 out of   3 | elapsed:    0.0s remaining:    0.0s\n[Parallel(n_jobs=1)]: Done   4 out of   4 | elapsed:    0.0s remaining:    0.0s\n[Parallel(n_jobs=1)]: Done   5 out of   5 | elapsed:    0.0s remaining:    0.0s\n[Parallel(n_jobs=1)]: Done   6 out of   6 | elapsed:    0.1s remaining:    0.0s\n\n[CV] degree=3, gamma=scale, kernel=poly ..............................\n[CV] .. degree=3, gamma=scale, kernel=poly, score=0.478, total=   0.0s\n[CV] degree=3, gamma=scale, kernel=poly ..............................\n[CV] .. degree=3, gamma=scale, kernel=poly, score=0.560, total=   0.0s\n[CV] degree=3, gamma=scale, kernel=poly ..............................\n[CV] .. degree=3, gamma=scale, kernel=poly, score=0.562, total=   0.0s\n[CV] degree=3, gamma=scale, kernel=rbf ...............................\n[CV] ... degree=3, gamma=scale, kernel=rbf, score=0.622, total=   0.0s\n[CV] degree=3, gamma=scale, kernel=rbf ...............................\n[CV] ... degree=3, gamma=scale, kernel=rbf, score=0.639, total=   0.0s\n[CV] degree=3, gamma=scale, kernel=rbf ...............................\n[CV] ... degree=3, gamma=scale, kernel=rbf, score=0.674, total=   0.0s\n[CV] degree=3, gamma=scale, kernel=rbf ...............................\n[Parallel(n_jobs=1)]: Done   7 out of   7 | elapsed:    0.1s remaining:    0.0s\n[Parallel(n_jobs=1)]: Done   8 out of   8 | elapsed:    0.1s remaining:    0.0s\n[Parallel(n_jobs=1)]: Done   9 out of   9 | elapsed:    0.2s remaining:    0.0s\n[CV] ... degree=3, gamma=scale, kernel=rbf, score=0.717, total=   0.0s\n[CV] degree=3, gamma=scale, kernel=rbf ...............................\n[CV] ... degree=3, gamma=scale, kernel=rbf, score=0.700, total=   0.0s\n[CV] degree=3, gamma=scale, kernel=sigmoid ...........................\n[CV]  degree=3, gamma=scale, kernel=sigmoid, score=-1.549, total=   0.0s\n[CV] degree=3, gamma=scale, kernel=sigmoid ...........................\n[CV]  degree=3, gamma=scale, kernel=sigmoid, score=-1.832, total=   0.0s\n[CV] degree=3, gamma=scale, kernel=sigmoid ...........................\n[CV]  degree=3, gamma=scale, kernel=sigmoid, score=-1.928, total=   0.0s\n[CV] degree=3, gamma=scale, kernel=sigmoid ...........................\n[CV]  degree=3, gamma=scale, kernel=sigmoid, score=-2.657, total=   0.1s\n[CV] degree=3, gamma=scale, kernel=sigmoid ...........................\n[CV]  degree=3, gamma=scale, kernel=sigmoid, score=-1.765, total=   0.0s\n[CV] degree=3, gamma=auto, kernel=linear .............................\n[CV] . degree=3, gamma=auto, kernel=linear, score=0.454, total=   0.0s\n[CV] degree=3, gamma=auto, kernel=linear .............................\n[CV] . degree=3, gamma=auto, kernel=linear, score=0.398, total=   0.0s\n[CV] degree=3, gamma=auto, kernel=linear .............................\n[CV] . degree=3, gamma=auto, kernel=linear, score=0.493, total=   0.0s\n[CV] degree=3, gamma=auto, kernel=linear .............................\n[CV] . degree=3, gamma=auto, kernel=linear, score=0.522, total=   0.0s\n[CV] degree=3, gamma=auto, kernel=linear .............................\n[CV] . degree=3, gamma=auto, kernel=linear, score=0.556, total=   0.0s\n[CV] degree=3, gamma=auto, kernel=poly ...............................\n[CV] ... degree=3, gamma=auto, kernel=poly, score=0.478, total=   0.0s\n[CV] degree=3, gamma=auto, kernel=poly ...............................\n[CV] ... degree=3, gamma=auto, kernel=poly, score=0.554, total=   0.0s\n[CV] degree=3, gamma=auto, kernel=poly ...............................\n[CV] ... degree=3, gamma=auto, kernel=poly, score=0.476, total=   0.0s\n[CV] degree=3, gamma=auto, kernel=poly ...............................\n[CV] ... degree=3, gamma=auto, kernel=poly, score=0.559, total=   0.0s\n[CV] degree=3, gamma=auto, kernel=poly ...............................\n[CV] ... degree=3, gamma=auto, kernel=poly, score=0.563, total=   0.0s\n[CV] degree=3, gamma=auto, kernel=rbf ................................\n[CV] .... degree=3, gamma=auto, kernel=rbf, score=0.623, total=   0.0s\n[CV] degree=3, gamma=auto, kernel=rbf ................................\n[CV] .... degree=3, gamma=auto, kernel=rbf, score=0.638, total=   0.0s\n[CV] degree=3, gamma=auto, kernel=rbf ................................\n[CV] .... degree=3, gamma=auto, kernel=rbf, score=0.674, total=   0.0s\n[CV] degree=3, gamma=auto, kernel=rbf ................................\n[CV] .... degree=3, gamma=auto, kernel=rbf, score=0.717, total=   0.0s\n[CV] degree=3, gamma=auto, kernel=rbf ................................\n[CV] .... degree=3, gamma=auto, kernel=rbf, score=0.700, total=   0.0s\n[CV] degree=3, gamma=auto, kernel=sigmoid ............................\n[CV]  degree=3, gamma=auto, kernel=sigmoid, score=-2.338, total=   0.0s\n[CV] degree=3, gamma=auto, kernel=sigmoid ............................\n[CV]  degree=3, gamma=auto, kernel=sigmoid, score=-2.859, total=   0.0s\n[CV] degree=3, gamma=auto, kernel=sigmoid ............................\n[CV]  degree=3, gamma=auto, kernel=sigmoid, score=-1.863, total=   0.0s\n[CV] degree=3, gamma=auto, kernel=sigmoid ............................\n[CV]  degree=3, gamma=auto, kernel=sigmoid, score=-2.673, total=   0.0s\n[CV] degree=3, gamma=auto, kernel=sigmoid ............................\n[CV]  degree=3, gamma=auto, kernel=sigmoid, score=-1.775, total=   0.0s\n[CV] degree=4, gamma=scale, kernel=linear ............................\n[CV]  degree=4, gamma=scale, kernel=linear, score=0.454, total=   0.0s\n[CV] degree=4, gamma=scale, kernel=linear ............................\n[CV]  degree=4, gamma=scale, kernel=linear, score=0.398, total=   0.0s\n[CV] degree=4, gamma=scale, kernel=linear ............................\n[CV]  degree=4, gamma=scale, kernel=linear, score=0.493, total=   0.0s\n[CV] degree=4, gamma=scale, kernel=linear ............................\n[CV]  degree=4, gamma=scale, kernel=linear, score=0.522, total=   0.0s\n[CV] degree=4, gamma=scale, kernel=linear ............................\n[CV]  degree=4, gamma=scale, kernel=linear, score=0.556, total=   0.0s\n[CV] degree=4, gamma=scale, kernel=poly ..............................\n[CV] .. degree=4, gamma=scale, kernel=poly, score=0.370, total=   0.0s\n[CV] degree=4, gamma=scale, kernel=poly ..............................\n[CV] .. degree=4, gamma=scale, kernel=poly, score=0.473, total=   0.0s\n[CV] degree=4, gamma=scale, kernel=poly ..............................\n[CV] .. degree=4, gamma=scale, kernel=poly, score=0.320, total=   0.0s\n[CV] degree=4, gamma=scale, kernel=poly ..............................\n[CV] .. degree=4, gamma=scale, kernel=poly, score=0.322, total=   0.0s\n[CV] degree=4, gamma=scale, kernel=poly ..............................\n[CV] .. degree=4, gamma=scale, kernel=poly, score=0.399, total=   0.0s\n[CV] degree=4, gamma=scale, kernel=rbf ...............................\n[CV] ... degree=4, gamma=scale, kernel=rbf, score=0.622, total=   0.0s\n[CV] degree=4, gamma=scale, kernel=rbf ...............................\n[CV] ... degree=4, gamma=scale, kernel=rbf, score=0.639, total=   0.0s\n[CV] degree=4, gamma=scale, kernel=rbf ...............................\n[CV] ... degree=4, gamma=scale, kernel=rbf, score=0.674, total=   0.0s\n[CV] degree=4, gamma=scale, kernel=rbf ...............................\n[CV] ... degree=4, gamma=scale, kernel=rbf, score=0.717, total=   0.0s\n[CV] degree=4, gamma=scale, kernel=rbf ...............................\n[CV] ... degree=4, gamma=scale, kernel=rbf, score=0.700, total=   0.0s\n[CV] degree=4, gamma=scale, kernel=sigmoid ...........................\n[CV]  degree=4, gamma=scale, kernel=sigmoid, score=-1.549, total=   0.0s\n[CV] degree=4, gamma=scale, kernel=sigmoid ...........................\n[CV]  degree=4, gamma=scale, kernel=sigmoid, score=-1.832, total=   0.0s\n[CV] degree=4, gamma=scale, kernel=sigmoid ...........................\n[CV]  degree=4, gamma=scale, kernel=sigmoid, score=-1.928, total=   0.0s\n[CV] degree=4, gamma=scale, kernel=sigmoid ...........................\n[CV]  degree=4, gamma=scale, kernel=sigmoid, score=-2.657, total=   0.0s\n[CV] degree=4, gamma=scale, kernel=sigmoid ...........................\n[CV]  degree=4, gamma=scale, kernel=sigmoid, score=-1.765, total=   0.0s\n[CV] degree=4, gamma=auto, kernel=linear .............................\n[CV] . degree=4, gamma=auto, kernel=linear, score=0.454, total=   0.0s\n[CV] degree=4, gamma=auto, kernel=linear .............................\n[CV] . degree=4, gamma=auto, kernel=linear, score=0.398, total=   0.0s\n[CV] degree=4, gamma=auto, kernel=linear .............................\n[CV] . degree=4, gamma=auto, kernel=linear, score=0.493, total=   0.0s\n[CV] degree=4, gamma=auto, kernel=linear .............................\n[CV] . degree=4, gamma=auto, kernel=linear, score=0.522, total=   0.0s\n[CV] degree=4, gamma=auto, kernel=linear .............................\n[CV] . degree=4, gamma=auto, kernel=linear, score=0.556, total=   0.0s\n[CV] degree=4, gamma=auto, kernel=poly ...............................\n[CV] ... degree=4, gamma=auto, kernel=poly, score=0.374, total=   0.0s\n[CV] degree=4, gamma=auto, kernel=poly ...............................\n[CV] ... degree=4, gamma=auto, kernel=poly, score=0.469, total=   0.0s\n[CV] degree=4, gamma=auto, kernel=poly ...............................\n[CV] ... degree=4, gamma=auto, kernel=poly, score=0.319, total=   0.0s\n[CV] degree=4, gamma=auto, kernel=poly ...............................\n[CV] ... degree=4, gamma=auto, kernel=poly, score=0.322, total=   0.0s\n[CV] degree=4, gamma=auto, kernel=poly ...............................\n[CV] ... degree=4, gamma=auto, kernel=poly, score=0.399, total=   0.0s\n[CV] degree=4, gamma=auto, kernel=rbf ................................\n[CV] .... degree=4, gamma=auto, kernel=rbf, score=0.623, total=   0.0s\n[CV] degree=4, gamma=auto, kernel=rbf ................................\n[CV] .... degree=4, gamma=auto, kernel=rbf, score=0.638, total=   0.0s\n[CV] degree=4, gamma=auto, kernel=rbf ................................\n[CV] .... degree=4, gamma=auto, kernel=rbf, score=0.674, total=   0.0s\n[CV] degree=4, gamma=auto, kernel=rbf ................................\n[CV] .... degree=4, gamma=auto, kernel=rbf, score=0.717, total=   0.0s\n[CV] degree=4, gamma=auto, kernel=rbf ................................\n[CV] .... degree=4, gamma=auto, kernel=rbf, score=0.700, total=   0.0s\n[CV] degree=4, gamma=auto, kernel=sigmoid ............................\n[CV]  degree=4, gamma=auto, kernel=sigmoid, score=-2.338, total=   0.0s\n[CV] degree=4, gamma=auto, kernel=sigmoid ............................\n[CV]  degree=4, gamma=auto, kernel=sigmoid, score=-2.859, total=   0.0s\n[CV] degree=4, gamma=auto, kernel=sigmoid ............................\n[CV]  degree=4, gamma=auto, kernel=sigmoid, score=-1.863, total=   0.0s\n[CV] degree=4, gamma=auto, kernel=sigmoid ............................\n[CV]  degree=4, gamma=auto, kernel=sigmoid, score=-2.673, total=   0.0s\n[CV] degree=4, gamma=auto, kernel=sigmoid ............................\n[CV]  degree=4, gamma=auto, kernel=sigmoid, score=-1.775, total=   0.0s\n[CV] degree=5, gamma=scale, kernel=linear ............................\n[CV]  degree=5, gamma=scale, kernel=linear, score=0.454, total=   0.0s\n[CV] degree=5, gamma=scale, kernel=linear ............................\n[CV]  degree=5, gamma=scale, kernel=linear, score=0.398, total=   0.0s\n[CV] degree=5, gamma=scale, kernel=linear ............................\n[CV]  degree=5, gamma=scale, kernel=linear, score=0.493, total=   0.0s\n[CV] degree=5, gamma=scale, kernel=linear ............................\n[CV]  degree=5, gamma=scale, kernel=linear, score=0.522, total=   0.0s\n[CV] degree=5, gamma=scale, kernel=linear ............................\n[CV]  degree=5, gamma=scale, kernel=linear, score=0.556, total=   0.0s\n[CV] degree=5, gamma=scale, kernel=poly ..............................\n[CV] .. degree=5, gamma=scale, kernel=poly, score=0.407, total=   0.1s\n[CV] degree=5, gamma=scale, kernel=poly ..............................\n[CV] .. degree=5, gamma=scale, kernel=poly, score=0.036, total=   0.0s\n[CV] degree=5, gamma=scale, kernel=poly ..............................\n[CV] .. degree=5, gamma=scale, kernel=poly, score=0.409, total=   0.1s\n[CV] degree=5, gamma=scale, kernel=poly ..............................\n[CV] .. degree=5, gamma=scale, kernel=poly, score=0.369, total=   0.1s\n[CV] degree=5, gamma=scale, kernel=poly ..............................\n[CV] .. degree=5, gamma=scale, kernel=poly, score=0.437, total=   0.1s\n[CV] degree=5, gamma=scale, kernel=rbf ...............................\n[CV] ... degree=5, gamma=scale, kernel=rbf, score=0.622, total=   0.0s\n[CV] degree=5, gamma=scale, kernel=rbf ...............................\n[CV] ... degree=5, gamma=scale, kernel=rbf, score=0.639, total=   0.0s\n[CV] degree=5, gamma=scale, kernel=rbf ...............................\n[CV] ... degree=5, gamma=scale, kernel=rbf, score=0.674, total=   0.0s\n[CV] degree=5, gamma=scale, kernel=rbf ...............................\n[CV] ... degree=5, gamma=scale, kernel=rbf, score=0.717, total=   0.0s\n[CV] degree=5, gamma=scale, kernel=rbf ...............................\n[CV] ... degree=5, gamma=scale, kernel=rbf, score=0.700, total=   0.0s\n[CV] degree=5, gamma=scale, kernel=sigmoid ...........................\n[CV]  degree=5, gamma=scale, kernel=sigmoid, score=-1.549, total=   0.0s\n[CV] degree=5, gamma=scale, kernel=sigmoid ...........................\n[CV]  degree=5, gamma=scale, kernel=sigmoid, score=-1.832, total=   0.0s\n[CV] degree=5, gamma=scale, kernel=sigmoid ...........................\n[CV]  degree=5, gamma=scale, kernel=sigmoid, score=-1.928, total=   0.0s\n[CV] degree=5, gamma=scale, kernel=sigmoid ...........................\n[CV]  degree=5, gamma=scale, kernel=sigmoid, score=-2.657, total=   0.1s\n[CV] degree=5, gamma=scale, kernel=sigmoid ...........................\n[CV]  degree=5, gamma=scale, kernel=sigmoid, score=-1.765, total=   0.0s\n[CV] degree=5, gamma=auto, kernel=linear .............................\n[CV] . degree=5, gamma=auto, kernel=linear, score=0.454, total=   0.0s\n[CV] degree=5, gamma=auto, kernel=linear .............................\n[CV] . degree=5, gamma=auto, kernel=linear, score=0.398, total=   0.0s\n[CV] degree=5, gamma=auto, kernel=linear .............................\n[CV] . degree=5, gamma=auto, kernel=linear, score=0.493, total=   0.0s\n[CV] degree=5, gamma=auto, kernel=linear .............................\n[CV] . degree=5, gamma=auto, kernel=linear, score=0.522, total=   0.0s\n[CV] degree=5, gamma=auto, kernel=linear .............................\n[CV] . degree=5, gamma=auto, kernel=linear, score=0.556, total=   0.0s\n[CV] degree=5, gamma=auto, kernel=poly ...............................\n[CV] ... degree=5, gamma=auto, kernel=poly, score=0.411, total=   0.1s\n[CV] degree=5, gamma=auto, kernel=poly ...............................\n[CV] ... degree=5, gamma=auto, kernel=poly, score=0.079, total=   0.0s\n[CV] degree=5, gamma=auto, kernel=poly ...............................\n[CV] ... degree=5, gamma=auto, kernel=poly, score=0.408, total=   0.1s\n[CV] degree=5, gamma=auto, kernel=poly ...............................\n[CV] ... degree=5, gamma=auto, kernel=poly, score=0.371, total=   0.1s\n[CV] degree=5, gamma=auto, kernel=poly ...............................\n[CV] ... degree=5, gamma=auto, kernel=poly, score=0.437, total=   0.1s\n[CV] degree=5, gamma=auto, kernel=rbf ................................\n[CV] .... degree=5, gamma=auto, kernel=rbf, score=0.623, total=   0.0s\n[CV] degree=5, gamma=auto, kernel=rbf ................................\n[CV] .... degree=5, gamma=auto, kernel=rbf, score=0.638, total=   0.0s\n[CV] degree=5, gamma=auto, kernel=rbf ................................\n[CV] .... degree=5, gamma=auto, kernel=rbf, score=0.674, total=   0.0s\n[CV] degree=5, gamma=auto, kernel=rbf ................................\n[CV] .... degree=5, gamma=auto, kernel=rbf, score=0.717, total=   0.0s\n[CV] degree=5, gamma=auto, kernel=rbf ................................\n[CV] .... degree=5, gamma=auto, kernel=rbf, score=0.700, total=   0.0s\n[CV] degree=5, gamma=auto, kernel=sigmoid ............................\n[CV]  degree=5, gamma=auto, kernel=sigmoid, score=-2.338, total=   0.0s\n[CV] degree=5, gamma=auto, kernel=sigmoid ............................\n[CV]  degree=5, gamma=auto, kernel=sigmoid, score=-2.859, total=   0.0s\n[CV] degree=5, gamma=auto, kernel=sigmoid ............................\n[CV]  degree=5, gamma=auto, kernel=sigmoid, score=-1.863, total=   0.0s\n[CV] degree=5, gamma=auto, kernel=sigmoid ............................\n[CV]  degree=5, gamma=auto, kernel=sigmoid, score=-2.673, total=   0.0s\n[CV] degree=5, gamma=auto, kernel=sigmoid ............................\n[CV]  degree=5, gamma=auto, kernel=sigmoid, score=-1.775, total=   0.0s\n[Parallel(n_jobs=1)]: Done 120 out of 120 | elapsed:    4.3s finished\n"
    },
    {
     "output_type": "execute_result",
     "data": {
      "text/plain": "GridSearchCV(estimator=SVR(),\n             param_grid={'degree': [3, 4, 5], 'gamma': ['scale', 'auto'],\n                         'kernel': ['linear', 'poly', 'rbf', 'sigmoid']},\n             verbose=10)"
     },
     "metadata": {},
     "execution_count": 7
    }
   ],
   "source": [
    "from sklearn.svm import SVR\n",
    "from sklearn.model_selection import GridSearchCV\n",
    "\n",
    "params = {\n",
    "    'kernel': ['linear', 'poly', 'rbf', 'sigmoid'],\n",
    "    'degree': [3, 4, 5],\n",
    "    'gamma': ['scale', 'auto']\n",
    "}\n",
    "\n",
    "regressors = GridSearchCV(estimator=SVR(), param_grid=params, verbose=10)\n",
    "regressors.fit(X_train, y_train)"
   ]
  },
  {
   "cell_type": "markdown",
   "metadata": {},
   "source": [
    "## Predicting the Test set results"
   ]
  },
  {
   "cell_type": "code",
   "execution_count": 8,
   "metadata": {
    "tags": []
   },
   "outputs": [
    {
     "output_type": "stream",
     "name": "stdout",
     "text": "[[128.74 130.79]\n [119.09 119.54]\n [115.26 110.32]\n [127.15 117.4 ]\n [124.76 127.62]\n [128.71 121.66]\n [119.59 118.69]\n [131.62 130.03]\n [118.4  114.73]\n [126.02 124.21]\n [125.66 125.84]\n [128.97 131.52]\n [130.9  130.7 ]\n [121.8  117.81]\n [125.87 126.66]\n [113.72 113.14]\n [129.33 126.76]\n [127.9  133.38]\n [118.18 118.08]\n [125.74 116.15]\n [121.21 123.46]\n [128.08 130.09]\n [128.62 129.93]\n [124.28 120.66]\n [129.25 134.06]\n [123.33 122.09]\n [117.19 117.09]\n [129.5  138.76]\n [128.79 130.83]\n [127.81 128.24]\n [129.69 128.95]\n [122.1  122.53]\n [110.08 103.38]\n [126.83 126.41]\n [129.11 131.8 ]\n [129.14 130.96]\n [118.5  119.25]\n [117.09 109.64]\n [128.76 127.78]\n [128.28 129.01]\n [130.91 132.54]\n [124.04 125.48]\n [125.49 138.27]\n [120.84 123.13]\n [112.3  111.03]\n [131.59 135.96]\n [127.47 127.12]\n [129.13 129.67]\n [130.58 125.65]\n [124.35 129.24]\n [121.23 123.21]\n [124.54 127.  ]\n [121.04 119.91]\n [127.73 126.56]\n [121.32 121.53]\n [121.71 122.23]\n [117.22 113.3 ]\n [127.82 128.34]\n [122.13 121.73]\n [121.1  118.9 ]\n [127.2  122.43]\n [129.31 133.24]\n [129.58 127.64]\n [131.29 136.17]\n [124.09 124.36]\n [128.31 127.59]\n [126.67 128.35]\n [128.57 133.76]\n [129.98 132.13]\n [127.15 113.8 ]\n [127.94 125.72]\n [126.34 126.09]\n [129.63 121.01]\n [127.78 130.05]\n [125.81 126.65]\n [123.65 123.45]\n [127.12 122.09]\n [128.99 126.51]\n [131.52 133.66]\n [129.39 130.18]\n [131.23 129.12]\n [128.64 128.41]\n [126.06 118.11]\n [124.75 122.8 ]\n [129.11 127.31]\n [118.98 118.11]\n [125.49 128.81]\n [123.04 121.77]\n [129.88 134.53]\n [128.73 127.38]\n [127.53 130.99]\n [128.14 127.12]\n [124.78 119.11]\n [111.98 110.65]\n [127.38 126.42]\n [113.04 107.28]\n [113.4  108.19]\n [133.67 136.1 ]\n [123.51 120.51]\n [126.03 122.78]\n [124.64 125.16]\n [131.92 135.94]\n [129.05 129.01]\n [128.52 131.86]\n [132.58 133.28]\n [128.31 129.58]\n [130.01 133.05]\n [129.85 130.79]\n [128.59 131.71]\n [131.32 136.68]\n [124.26 123.23]\n [126.91 125.04]\n [125.75 127.83]\n [125.94 127.46]\n [124.61 129.09]\n [121.77 120.98]\n [127.81 130.72]\n [122.72 120.7 ]\n [125.57 128.63]\n [122.07 122.2 ]\n [123.36 123.3 ]\n [130.05 119.7 ]\n [124.8  127.31]\n [128.13 127.14]\n [129.36 124.46]\n [118.64 116.02]\n [128.16 131.72]\n [127.97 129.69]\n [128.81 126.84]\n [120.23 120.65]\n [129.64 131.36]\n [121.37 123.22]\n [122.78 125.63]\n [125.93 115.44]\n [129.01 128.33]\n [122.57 125.97]\n [123.22 120.58]\n [128.93 132.66]\n [123.21 123.21]\n [115.52 112.16]\n [114.95 114.08]\n [116.04 114.67]\n [128.62 127.81]\n [127.47 123.26]\n [116.62 116.66]\n [128.84 122.97]\n [118.53 116.47]\n [130.54 129.27]\n [119.79 121.12]\n [126.39 130.43]\n [125.23 125.57]\n [128.91 131.6 ]\n [128.14 119.15]\n [122.98 123.24]\n [130.32 126.51]\n [121.33 122.82]\n [131.92 133.5 ]\n [130.   126.93]\n [125.08 119.88]\n [132.56 133.96]\n [114.92 113.73]\n [130.08 125.05]\n [124.35 125.23]\n [126.18 130.24]\n [125.78 124.51]\n [126.72 128.26]\n [127.25 124.88]\n [117.05 118.62]\n [130.54 138.54]\n [114.92 112.93]\n [113.62 113.08]\n [125.69 128.17]\n [129.51 125.81]\n [123.83 124.99]\n [126.17 126.84]\n [120.11 116.86]\n [126.16 125.72]\n [125.19 123.12]\n [125.23 125.31]\n [119.08 122.17]\n [130.32 131.46]\n [125.53 121.59]\n [130.69 134.15]\n [124.85 119.19]\n [126.89 125.95]\n [131.99 129.95]\n [124.95 127.58]\n [127.46 129.58]\n [121.26 120.26]\n [128.48 126.16]\n [123.32 124.84]\n [123.74 119.14]\n [130.8  126.81]\n [125.33 125.96]\n [122.63 118.62]\n [133.14 134.93]\n [126.47 130.72]\n [118.37 113.08]\n [126.18 121.85]\n [125.36 126.34]\n [115.08 114.45]\n [129.11 130.59]\n [125.78 126.99]\n [129.61 126.41]\n [113.44 106.11]\n [127.95 130.22]\n [125.51 131.07]\n [119.23 118.13]\n [122.57 118.55]\n [128.52 130.99]\n [133.58 130.5 ]\n [130.77 131.78]\n [130.55 127.4 ]\n [127.16 125.2 ]\n [129.06 130.03]\n [127.21 130.21]\n [131.59 138.42]\n [130.52 128.82]\n [130.98 133.61]\n [115.83 117.65]\n [126.03 130.4 ]\n [129.2  132.4 ]\n [127.34 131.75]\n [117.47 116.02]\n [131.08 123.74]\n [115.86 108.65]\n [129.32 129.88]\n [125.91 126.47]\n [129.66 128.58]\n [127.36 115.81]\n [127.56 128.18]\n [127.04 126.15]\n [126.87 126.67]\n [129.67 132.3 ]\n [119.08 117.72]\n [123.37 124.09]\n [127.54 128.44]\n [124.01 127.69]\n [118.86 118.77]\n [127.43 126.27]\n [127.83 121.06]\n [123.58 128.48]\n [127.61 126.86]\n [113.87 114.78]\n [109.78 107.15]\n [125.51 120.24]\n [124.03 127.36]\n [130.27 124.16]\n [125.   124.36]\n [125.67 128.56]\n [109.05 108.69]\n [108.6  109.89]\n [125.78 136.41]\n [129.63 133.55]\n [124.26 125.03]\n [124.7  123.7 ]\n [119.52 120.25]\n [127.44 128.71]\n [121.54 117.14]\n [110.86 104.5 ]\n [129.61 125.35]\n [124.26 119.1 ]\n [124.83 121.24]\n [131.1  128.92]\n [129.7  125.35]\n [130.24 134.32]\n [129.3  130.56]\n [128.96 132.76]\n [128.16 120.14]\n [128.32 130.75]\n [126.48 128.68]\n [124.64 125.11]\n [131.44 134.31]\n [127.49 124.84]\n [131.96 127.56]\n [123.94 125.68]\n [128.11 122.23]\n [130.06 128.29]\n [114.75 115.14]\n [120.88 120.23]\n [117.01 116.91]\n [129.67 133.42]\n [129.49 134.51]\n [125.05 119.97]\n [120.24 117.25]\n [130.31 129.99]\n [127.49 125.27]\n [109.3  104.2 ]\n [127.79 125.58]\n [120.61 119.29]\n [121.25 120.54]\n [131.07 129.28]\n [122.13 121.82]\n [122.97 121.93]\n [113.89 109.62]\n [131.45 138.61]\n [124.91 127.61]\n [126.92 130.44]\n [128.59 131.01]\n [126.3  125.58]\n [115.36 112.59]\n [131.35 127.21]\n [128.88 136.28]\n [119.88 117.5 ]\n [123.59 122.34]\n [113.45 114.04]\n [129.85 135.08]\n [126.94 127.23]\n [123.19 123.69]\n [124.83 118.  ]\n [132.88 135.35]\n [126.78 126.53]\n [127.23 135.37]\n [112.14 111.96]\n [127.06 125.82]\n [126.53 119.62]\n [126.98 132.04]\n [121.79 118.36]\n [124.93 124.75]\n [127.15 112.51]\n [122.29 122.38]\n [118.52 120.5 ]\n [121.68 121.31]\n [112.34 109.25]\n [123.64 119.5 ]\n [116.68 118.21]\n [123.62 124.36]\n [117.3  115.91]\n [129.11 139.44]\n [125.67 124.49]\n [131.55 129.68]\n [131.89 134.53]\n [117.75 114.31]\n [130.86 129.45]\n [120.19 116.41]\n [126.19 118.13]\n [116.75 118.71]\n [132.11 131.84]\n [111.49 110.91]\n [127.32 129.57]\n [129.11 124.27]\n [126.36 129.03]\n [126.41 124.85]\n [114.98 115.68]\n [114.07 117.62]\n [128.1  127.13]\n [121.06 119.38]\n [123.38 119.07]\n [121.62 118.94]\n [115.1  113.33]\n [129.48 127.7 ]\n [132.12 131.46]\n [122.24 121.48]\n [130.59 129.8 ]\n [123.94 127.04]\n [128.44 134.  ]\n [130.37 128.77]\n [125.47 124.45]\n [122.96 124.84]\n [117.09 114.9 ]\n [120.93 118.76]\n [123.8  128.35]\n [130.85 130.2 ]\n [118.52 118.14]\n [130.28 133.1 ]\n [131.25 125.73]\n [116.48 116.24]\n [127.29 124.17]\n [124.3  115.86]\n [129.09 129.97]\n [122.21 121.4 ]\n [130.12 120.77]\n [117.99 118.12]\n [129.91 132.51]\n [131.55 132.3 ]\n [130.53 127.64]]\n"
    }
   ],
   "source": [
    "regressor = regressors.best_estimator_\n",
    "y_pred = regressor.predict(X_test)\n",
    "np.set_printoptions(precision=2)\n",
    "print(np.concatenate((y_pred.reshape(len(y_pred),1), y_test.reshape(len(y_test),1)),1))"
   ]
  },
  {
   "cell_type": "markdown",
   "metadata": {},
   "source": [
    "## Measuring performance"
   ]
  },
  {
   "cell_type": "code",
   "execution_count": 9,
   "metadata": {},
   "outputs": [],
   "source": [
    "from sklearn.metrics import r2_score \n",
    "from sklearn.metrics import mean_squared_error\n",
    "from sklearn.metrics import median_absolute_error"
   ]
  },
  {
   "cell_type": "code",
   "execution_count": 10,
   "metadata": {},
   "outputs": [
    {
     "output_type": "execute_result",
     "data": {
      "text/plain": "0.7111707925294724"
     },
     "metadata": {},
     "execution_count": 10
    }
   ],
   "source": [
    "r2_score(y_test, y_pred)"
   ]
  },
  {
   "cell_type": "code",
   "execution_count": 11,
   "metadata": {},
   "outputs": [
    {
     "output_type": "execute_result",
     "data": {
      "text/plain": "13.70036835003279"
     },
     "metadata": {},
     "execution_count": 11
    }
   ],
   "source": [
    "mean_squared_error(y_test, y_pred)"
   ]
  },
  {
   "cell_type": "code",
   "execution_count": 12,
   "metadata": {},
   "outputs": [
    {
     "output_type": "execute_result",
     "data": {
      "text/plain": "2.097805943941374"
     },
     "metadata": {},
     "execution_count": 12
    }
   ],
   "source": [
    "median_absolute_error(y_test, y_pred)"
   ]
  }
 ]
}